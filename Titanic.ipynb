{
  "nbformat": 4,
  "nbformat_minor": 0,
  "metadata": {
    "colab": {
      "name": "Titanic.ipynb",
      "provenance": [],
      "authorship_tag": "ABX9TyNM2CAk0AxBRhxJK8ttG4tm",
      "include_colab_link": true
    },
    "kernelspec": {
      "name": "python3",
      "display_name": "Python 3"
    }
  },
  "cells": [
    {
      "cell_type": "markdown",
      "metadata": {
        "id": "view-in-github",
        "colab_type": "text"
      },
      "source": [
        "<a href=\"https://colab.research.google.com/github/vidyakc111/Applications-of-Python-Programming-in-DA-ML-/blob/master/Titanic.ipynb\" target=\"_parent\"><img src=\"https://colab.research.google.com/assets/colab-badge.svg\" alt=\"Open In Colab\"/></a>"
      ]
    },
    {
      "cell_type": "markdown",
      "metadata": {
        "id": "oEPCd-BqSsQ_",
        "colab_type": "text"
      },
      "source": [
        "#CASE STUDY 2"
      ]
    },
    {
      "cell_type": "markdown",
      "metadata": {
        "id": "zarLnrTWSmXa",
        "colab_type": "text"
      },
      "source": [
        "#TITANIC SURVIVOR PREDICTION"
      ]
    },
    {
      "cell_type": "code",
      "metadata": {
        "id": "KuBxex_BQUaI",
        "colab_type": "code",
        "colab": {}
      },
      "source": [
        "# Ignore  the warnings\n",
        "import warnings\n",
        "warnings.filterwarnings('always')\n",
        "warnings.filterwarnings('ignore')\n",
        "\n",
        "# data visualisation and manipulation\n",
        "import numpy as np\n",
        "import pandas as pd\n",
        "import matplotlib.pyplot as plt\n",
        "from matplotlib import style\n",
        "import seaborn as sns\n",
        "\n",
        "#configure\n",
        "# sets matplotlib to inline and displays graphs below the corressponding cell.\n",
        "% matplotlib inline  \n",
        "style.use('fivethirtyeight')\n",
        "sns.set(style='whitegrid',color_codes=True)\n",
        "\n",
        "#import the necessary modelling algos.\n",
        "from sklearn.linear_model import LogisticRegression\n",
        "from sklearn.svm import LinearSVC\n",
        "from sklearn.svm import SVC\n",
        "from sklearn.neighbors import KNeighborsClassifier\n",
        "from sklearn.ensemble import RandomForestClassifier\n",
        "from sklearn.tree import DecisionTreeClassifier\n",
        "from sklearn.ensemble import GradientBoostingClassifier\n",
        "from sklearn.naive_bayes import GaussianNB\n",
        "\n",
        "#model selection\n",
        "from sklearn.model_selection import train_test_split\n",
        "from sklearn.model_selection import KFold\n",
        "from sklearn.metrics import accuracy_score\n",
        "from sklearn.model_selection import GridSearchCV"
      ],
      "execution_count": 62,
      "outputs": []
    },
    {
      "cell_type": "code",
      "metadata": {
        "id": "kvxXvhPJSyer",
        "colab_type": "code",
        "colab": {}
      },
      "source": [
        "train=pd.read_csv(r'/content/train.csv')\n",
        "#train.head()\n",
        "test=pd.read_csv(r'/content/test.csv')\n",
        "#test.head()\n",
        "df=train.copy()\n",
        "#df.head()\n",
        "test_df=test.copy()\n",
        "#test_df.head()"
      ],
      "execution_count": 63,
      "outputs": []
    },
    {
      "cell_type": "code",
      "metadata": {
        "id": "h1kX5ra8S1v5",
        "colab_type": "code",
        "colab": {
          "base_uri": "https://localhost:8080/",
          "height": 34
        },
        "outputId": "bacdeba3-d814-4805-b54f-ce64ff20e1fb"
      },
      "source": [
        "# now data exploration begins.\n",
        "\n",
        "df.head()\n",
        "df.index\n",
        "df.columns\n",
        "df.shape"
      ],
      "execution_count": 64,
      "outputs": [
        {
          "output_type": "execute_result",
          "data": {
            "text/plain": [
              "(891, 12)"
            ]
          },
          "metadata": {
            "tags": []
          },
          "execution_count": 64
        }
      ]
    },
    {
      "cell_type": "markdown",
      "metadata": {
        "id": "D7_tOJR3S6Gx",
        "colab_type": "text"
      },
      "source": [
        "the training dataset has 891 rows or training examples and 12 columns or features.Actually one of these is 'Survived' which is our target variable."
      ]
    },
    {
      "cell_type": "code",
      "metadata": {
        "id": "QTpHHPxyS3ZB",
        "colab_type": "code",
        "colab": {
          "base_uri": "https://localhost:8080/",
          "height": 290
        },
        "outputId": "ede31181-c059-4775-a098-2dd079b6d273"
      },
      "source": [
        "df.describe()  \n",
        "# displays different descriptive measures of the numerical features."
      ],
      "execution_count": 65,
      "outputs": [
        {
          "output_type": "execute_result",
          "data": {
            "text/html": [
              "<div>\n",
              "<style scoped>\n",
              "    .dataframe tbody tr th:only-of-type {\n",
              "        vertical-align: middle;\n",
              "    }\n",
              "\n",
              "    .dataframe tbody tr th {\n",
              "        vertical-align: top;\n",
              "    }\n",
              "\n",
              "    .dataframe thead th {\n",
              "        text-align: right;\n",
              "    }\n",
              "</style>\n",
              "<table border=\"1\" class=\"dataframe\">\n",
              "  <thead>\n",
              "    <tr style=\"text-align: right;\">\n",
              "      <th></th>\n",
              "      <th>PassengerId</th>\n",
              "      <th>Survived</th>\n",
              "      <th>Pclass</th>\n",
              "      <th>Age</th>\n",
              "      <th>SibSp</th>\n",
              "      <th>Parch</th>\n",
              "      <th>Fare</th>\n",
              "    </tr>\n",
              "  </thead>\n",
              "  <tbody>\n",
              "    <tr>\n",
              "      <th>count</th>\n",
              "      <td>891.000000</td>\n",
              "      <td>891.000000</td>\n",
              "      <td>891.000000</td>\n",
              "      <td>714.000000</td>\n",
              "      <td>891.000000</td>\n",
              "      <td>891.000000</td>\n",
              "      <td>891.000000</td>\n",
              "    </tr>\n",
              "    <tr>\n",
              "      <th>mean</th>\n",
              "      <td>446.000000</td>\n",
              "      <td>0.383838</td>\n",
              "      <td>2.308642</td>\n",
              "      <td>29.699118</td>\n",
              "      <td>0.523008</td>\n",
              "      <td>0.381594</td>\n",
              "      <td>32.204208</td>\n",
              "    </tr>\n",
              "    <tr>\n",
              "      <th>std</th>\n",
              "      <td>257.353842</td>\n",
              "      <td>0.486592</td>\n",
              "      <td>0.836071</td>\n",
              "      <td>14.526497</td>\n",
              "      <td>1.102743</td>\n",
              "      <td>0.806057</td>\n",
              "      <td>49.693429</td>\n",
              "    </tr>\n",
              "    <tr>\n",
              "      <th>min</th>\n",
              "      <td>1.000000</td>\n",
              "      <td>0.000000</td>\n",
              "      <td>1.000000</td>\n",
              "      <td>0.420000</td>\n",
              "      <td>0.000000</td>\n",
              "      <td>0.000000</td>\n",
              "      <td>0.000000</td>\n",
              "    </tr>\n",
              "    <tr>\n",
              "      <th>25%</th>\n",
              "      <td>223.500000</td>\n",
              "      <td>0.000000</td>\n",
              "      <td>2.000000</td>\n",
              "      <td>20.125000</td>\n",
              "      <td>0.000000</td>\n",
              "      <td>0.000000</td>\n",
              "      <td>7.910400</td>\n",
              "    </tr>\n",
              "    <tr>\n",
              "      <th>50%</th>\n",
              "      <td>446.000000</td>\n",
              "      <td>0.000000</td>\n",
              "      <td>3.000000</td>\n",
              "      <td>28.000000</td>\n",
              "      <td>0.000000</td>\n",
              "      <td>0.000000</td>\n",
              "      <td>14.454200</td>\n",
              "    </tr>\n",
              "    <tr>\n",
              "      <th>75%</th>\n",
              "      <td>668.500000</td>\n",
              "      <td>1.000000</td>\n",
              "      <td>3.000000</td>\n",
              "      <td>38.000000</td>\n",
              "      <td>1.000000</td>\n",
              "      <td>0.000000</td>\n",
              "      <td>31.000000</td>\n",
              "    </tr>\n",
              "    <tr>\n",
              "      <th>max</th>\n",
              "      <td>891.000000</td>\n",
              "      <td>1.000000</td>\n",
              "      <td>3.000000</td>\n",
              "      <td>80.000000</td>\n",
              "      <td>8.000000</td>\n",
              "      <td>6.000000</td>\n",
              "      <td>512.329200</td>\n",
              "    </tr>\n",
              "  </tbody>\n",
              "</table>\n",
              "</div>"
            ],
            "text/plain": [
              "       PassengerId    Survived      Pclass  ...       SibSp       Parch        Fare\n",
              "count   891.000000  891.000000  891.000000  ...  891.000000  891.000000  891.000000\n",
              "mean    446.000000    0.383838    2.308642  ...    0.523008    0.381594   32.204208\n",
              "std     257.353842    0.486592    0.836071  ...    1.102743    0.806057   49.693429\n",
              "min       1.000000    0.000000    1.000000  ...    0.000000    0.000000    0.000000\n",
              "25%     223.500000    0.000000    2.000000  ...    0.000000    0.000000    7.910400\n",
              "50%     446.000000    0.000000    3.000000  ...    0.000000    0.000000   14.454200\n",
              "75%     668.500000    1.000000    3.000000  ...    1.000000    0.000000   31.000000\n",
              "max     891.000000    1.000000    3.000000  ...    8.000000    6.000000  512.329200\n",
              "\n",
              "[8 rows x 7 columns]"
            ]
          },
          "metadata": {
            "tags": []
          },
          "execution_count": 65
        }
      ]
    },
    {
      "cell_type": "markdown",
      "metadata": {
        "id": "CGM1XfK8TFiv",
        "colab_type": "text"
      },
      "source": [
        "some observations\n",
        "age has less than 891 implies that it has some missing(Nan) values.\n",
        "\n",
        "the mean of survived indicates that only 38% people survived and rest died.\n",
        "\n",
        "also the age varies from 0.42 to 80. Age less than 1 yr is represented as decimal.\n",
        "\n",
        "50% denotes the median value of features."
      ]
    },
    {
      "cell_type": "code",
      "metadata": {
        "id": "yRI_hM7KTAcA",
        "colab_type": "code",
        "colab": {
          "base_uri": "https://localhost:8080/",
          "height": 351
        },
        "outputId": "acce600d-a997-4b51-88bd-61063e9cb489"
      },
      "source": [
        "df.info() # age and cabin both have missing values. also emabarked has some nan values.\n",
        "# can also use .isnull().sum() to get the count of missing values"
      ],
      "execution_count": 66,
      "outputs": [
        {
          "output_type": "stream",
          "text": [
            "<class 'pandas.core.frame.DataFrame'>\n",
            "RangeIndex: 891 entries, 0 to 890\n",
            "Data columns (total 12 columns):\n",
            " #   Column       Non-Null Count  Dtype  \n",
            "---  ------       --------------  -----  \n",
            " 0   PassengerId  891 non-null    int64  \n",
            " 1   Survived     891 non-null    int64  \n",
            " 2   Pclass       891 non-null    int64  \n",
            " 3   Name         891 non-null    object \n",
            " 4   Sex          891 non-null    object \n",
            " 5   Age          714 non-null    float64\n",
            " 6   SibSp        891 non-null    int64  \n",
            " 7   Parch        891 non-null    int64  \n",
            " 8   Ticket       891 non-null    object \n",
            " 9   Fare         891 non-null    float64\n",
            " 10  Cabin        204 non-null    object \n",
            " 11  Embarked     889 non-null    object \n",
            "dtypes: float64(2), int64(5), object(5)\n",
            "memory usage: 83.7+ KB\n"
          ],
          "name": "stdout"
        }
      ]
    },
    {
      "cell_type": "code",
      "metadata": {
        "id": "XbKM25KvT0aH",
        "colab_type": "code",
        "colab": {
          "base_uri": "https://localhost:8080/",
          "height": 250
        },
        "outputId": "c97ecaa4-f489-400f-fc4c-21e4b74620c7"
      },
      "source": [
        "df.head()"
      ],
      "execution_count": 67,
      "outputs": [
        {
          "output_type": "execute_result",
          "data": {
            "text/html": [
              "<div>\n",
              "<style scoped>\n",
              "    .dataframe tbody tr th:only-of-type {\n",
              "        vertical-align: middle;\n",
              "    }\n",
              "\n",
              "    .dataframe tbody tr th {\n",
              "        vertical-align: top;\n",
              "    }\n",
              "\n",
              "    .dataframe thead th {\n",
              "        text-align: right;\n",
              "    }\n",
              "</style>\n",
              "<table border=\"1\" class=\"dataframe\">\n",
              "  <thead>\n",
              "    <tr style=\"text-align: right;\">\n",
              "      <th></th>\n",
              "      <th>PassengerId</th>\n",
              "      <th>Survived</th>\n",
              "      <th>Pclass</th>\n",
              "      <th>Name</th>\n",
              "      <th>Sex</th>\n",
              "      <th>Age</th>\n",
              "      <th>SibSp</th>\n",
              "      <th>Parch</th>\n",
              "      <th>Ticket</th>\n",
              "      <th>Fare</th>\n",
              "      <th>Cabin</th>\n",
              "      <th>Embarked</th>\n",
              "    </tr>\n",
              "  </thead>\n",
              "  <tbody>\n",
              "    <tr>\n",
              "      <th>0</th>\n",
              "      <td>1</td>\n",
              "      <td>0</td>\n",
              "      <td>3</td>\n",
              "      <td>Braund, Mr. Owen Harris</td>\n",
              "      <td>male</td>\n",
              "      <td>22.0</td>\n",
              "      <td>1</td>\n",
              "      <td>0</td>\n",
              "      <td>A/5 21171</td>\n",
              "      <td>7.2500</td>\n",
              "      <td>NaN</td>\n",
              "      <td>S</td>\n",
              "    </tr>\n",
              "    <tr>\n",
              "      <th>1</th>\n",
              "      <td>2</td>\n",
              "      <td>1</td>\n",
              "      <td>1</td>\n",
              "      <td>Cumings, Mrs. John Bradley (Florence Briggs Th...</td>\n",
              "      <td>female</td>\n",
              "      <td>38.0</td>\n",
              "      <td>1</td>\n",
              "      <td>0</td>\n",
              "      <td>PC 17599</td>\n",
              "      <td>71.2833</td>\n",
              "      <td>C85</td>\n",
              "      <td>C</td>\n",
              "    </tr>\n",
              "    <tr>\n",
              "      <th>2</th>\n",
              "      <td>3</td>\n",
              "      <td>1</td>\n",
              "      <td>3</td>\n",
              "      <td>Heikkinen, Miss. Laina</td>\n",
              "      <td>female</td>\n",
              "      <td>26.0</td>\n",
              "      <td>0</td>\n",
              "      <td>0</td>\n",
              "      <td>STON/O2. 3101282</td>\n",
              "      <td>7.9250</td>\n",
              "      <td>NaN</td>\n",
              "      <td>S</td>\n",
              "    </tr>\n",
              "    <tr>\n",
              "      <th>3</th>\n",
              "      <td>4</td>\n",
              "      <td>1</td>\n",
              "      <td>1</td>\n",
              "      <td>Futrelle, Mrs. Jacques Heath (Lily May Peel)</td>\n",
              "      <td>female</td>\n",
              "      <td>35.0</td>\n",
              "      <td>1</td>\n",
              "      <td>0</td>\n",
              "      <td>113803</td>\n",
              "      <td>53.1000</td>\n",
              "      <td>C123</td>\n",
              "      <td>S</td>\n",
              "    </tr>\n",
              "    <tr>\n",
              "      <th>4</th>\n",
              "      <td>5</td>\n",
              "      <td>0</td>\n",
              "      <td>3</td>\n",
              "      <td>Allen, Mr. William Henry</td>\n",
              "      <td>male</td>\n",
              "      <td>35.0</td>\n",
              "      <td>0</td>\n",
              "      <td>0</td>\n",
              "      <td>373450</td>\n",
              "      <td>8.0500</td>\n",
              "      <td>NaN</td>\n",
              "      <td>S</td>\n",
              "    </tr>\n",
              "  </tbody>\n",
              "</table>\n",
              "</div>"
            ],
            "text/plain": [
              "   PassengerId  Survived  Pclass  ...     Fare Cabin  Embarked\n",
              "0            1         0       3  ...   7.2500   NaN         S\n",
              "1            2         1       1  ...  71.2833   C85         C\n",
              "2            3         1       3  ...   7.9250   NaN         S\n",
              "3            4         1       1  ...  53.1000  C123         S\n",
              "4            5         0       3  ...   8.0500   NaN         S\n",
              "\n",
              "[5 rows x 12 columns]"
            ]
          },
          "metadata": {
            "tags": []
          },
          "execution_count": 67
        }
      ]
    },
    {
      "cell_type": "markdown",
      "metadata": {
        "id": "fT8iWp1wUMfm",
        "colab_type": "text"
      },
      "source": [
        "some key points about features\n",
        "survived is the target variable that we have to predict. 0 means die and 1 means survival.\n",
        "\n",
        "now the relevant features include--\n",
        "\n",
        "Pclass:\n",
        "\n",
        "Sex:\n",
        "\n",
        "Age:\n",
        "\n",
        "Fare:\n",
        "\n",
        "Embarked:"
      ]
    },
    {
      "cell_type": "code",
      "metadata": {
        "id": "HPfUMlt_T2wJ",
        "colab_type": "code",
        "colab": {
          "base_uri": "https://localhost:8080/",
          "height": 87
        },
        "outputId": "e37bc8ea-d97e-4239-8710-88e415185a62"
      },
      "source": [
        " df.groupby('Survived').Survived.count() \n",
        " # of the given examples 549 people died while only 342 survived."
      ],
      "execution_count": 68,
      "outputs": [
        {
          "output_type": "execute_result",
          "data": {
            "text/plain": [
              "Survived\n",
              "0    549\n",
              "1    342\n",
              "Name: Survived, dtype: int64"
            ]
          },
          "metadata": {
            "tags": []
          },
          "execution_count": 68
        }
      ]
    },
    {
      "cell_type": "code",
      "metadata": {
        "id": "lpCyQoihUWo8",
        "colab_type": "code",
        "colab": {
          "base_uri": "https://localhost:8080/",
          "height": 382
        },
        "outputId": "cb4ae4ff-6fe7-404a-ae9d-b8370e8995f0"
      },
      "source": [
        "sns.factorplot(x='Survived',data=df,kind='count',palette=['#ff4125','#006400'],size=5,aspect=1)"
      ],
      "execution_count": 69,
      "outputs": [
        {
          "output_type": "execute_result",
          "data": {
            "text/plain": [
              "<seaborn.axisgrid.FacetGrid at 0x7f574c5426d8>"
            ]
          },
          "metadata": {
            "tags": []
          },
          "execution_count": 69
        },
        {
          "output_type": "display_data",
          "data": {
            "image/png": "[encoded data removed]",
            "text/plain": [
              "<Figure size 360x360 with 1 Axes>"
            ]
          },
          "metadata": {
            "tags": []
          }
        }
      ]
    },
    {
      "cell_type": "code",
      "metadata": {
        "id": "QET2qltEUYpO",
        "colab_type": "code",
        "colab": {
          "base_uri": "https://localhost:8080/",
          "height": 169
        },
        "outputId": "79b63d9b-b012-4017-a81e-b2e70004295e"
      },
      "source": [
        "# consider 'Sex' feature.\n",
        "df[df.Survived==1].groupby('Sex').Survived.count()\n",
        "pd.crosstab(index=[df.Sex],columns=[df.Survived],margins=True) # set normalize=True to view %."
      ],
      "execution_count": 70,
      "outputs": [
        {
          "output_type": "execute_result",
          "data": {
            "text/html": [
              "<div>\n",
              "<style scoped>\n",
              "    .dataframe tbody tr th:only-of-type {\n",
              "        vertical-align: middle;\n",
              "    }\n",
              "\n",
              "    .dataframe tbody tr th {\n",
              "        vertical-align: top;\n",
              "    }\n",
              "\n",
              "    .dataframe thead th {\n",
              "        text-align: right;\n",
              "    }\n",
              "</style>\n",
              "<table border=\"1\" class=\"dataframe\">\n",
              "  <thead>\n",
              "    <tr style=\"text-align: right;\">\n",
              "      <th>Survived</th>\n",
              "      <th>0</th>\n",
              "      <th>1</th>\n",
              "      <th>All</th>\n",
              "    </tr>\n",
              "    <tr>\n",
              "      <th>Sex</th>\n",
              "      <th></th>\n",
              "      <th></th>\n",
              "      <th></th>\n",
              "    </tr>\n",
              "  </thead>\n",
              "  <tbody>\n",
              "    <tr>\n",
              "      <th>female</th>\n",
              "      <td>81</td>\n",
              "      <td>233</td>\n",
              "      <td>314</td>\n",
              "    </tr>\n",
              "    <tr>\n",
              "      <th>male</th>\n",
              "      <td>468</td>\n",
              "      <td>109</td>\n",
              "      <td>577</td>\n",
              "    </tr>\n",
              "    <tr>\n",
              "      <th>All</th>\n",
              "      <td>549</td>\n",
              "      <td>342</td>\n",
              "      <td>891</td>\n",
              "    </tr>\n",
              "  </tbody>\n",
              "</table>\n",
              "</div>"
            ],
            "text/plain": [
              "Survived    0    1  All\n",
              "Sex                    \n",
              "female     81  233  314\n",
              "male      468  109  577\n",
              "All       549  342  891"
            ]
          },
          "metadata": {
            "tags": []
          },
          "execution_count": 70
        }
      ]
    },
    {
      "cell_type": "markdown",
      "metadata": {
        "id": "HoetgWUEU807",
        "colab_type": "text"
      },
      "source": [
        "233 female survived while only 109 males. This clearly shows that more females survived than males did. the following graph clearly shows the picture."
      ]
    },
    {
      "cell_type": "code",
      "metadata": {
        "id": "aoNLxh4BU4rb",
        "colab_type": "code",
        "colab": {
          "base_uri": "https://localhost:8080/",
          "height": 382
        },
        "outputId": "cb203785-4819-4a7a-ec57-bdb41dd77129"
      },
      "source": [
        "sns.factorplot(x='Survived',data=df,hue='Sex',palette=['#0000ff','#FFB6C1'],kind='count',size=5,aspect=1)"
      ],
      "execution_count": 71,
      "outputs": [
        {
          "output_type": "execute_result",
          "data": {
            "text/plain": [
              "<seaborn.axisgrid.FacetGrid at 0x7f574c4ef908>"
            ]
          },
          "metadata": {
            "tags": []
          },
          "execution_count": 71
        },
        {
          "output_type": "display_data",
          "data": {
            "image/png": "[encoded data removed]",
            "text/plain": [
              "<Figure size 437.975x360 with 1 Axes>"
            ]
          },
          "metadata": {
            "tags": []
          }
        }
      ]
    },
    {
      "cell_type": "code",
      "metadata": {
        "id": "dths9VnpU_M5",
        "colab_type": "code",
        "colab": {
          "base_uri": "https://localhost:8080/",
          "height": 169
        },
        "outputId": "323d2db9-1a6a-426e-e839-462f8784020c"
      },
      "source": [
        "pd.crosstab(index=[df.Sex],columns=[df.Survived],margins=True,normalize='index')  "
      ],
      "execution_count": 72,
      "outputs": [
        {
          "output_type": "execute_result",
          "data": {
            "text/html": [
              "<div>\n",
              "<style scoped>\n",
              "    .dataframe tbody tr th:only-of-type {\n",
              "        vertical-align: middle;\n",
              "    }\n",
              "\n",
              "    .dataframe tbody tr th {\n",
              "        vertical-align: top;\n",
              "    }\n",
              "\n",
              "    .dataframe thead th {\n",
              "        text-align: right;\n",
              "    }\n",
              "</style>\n",
              "<table border=\"1\" class=\"dataframe\">\n",
              "  <thead>\n",
              "    <tr style=\"text-align: right;\">\n",
              "      <th>Survived</th>\n",
              "      <th>0</th>\n",
              "      <th>1</th>\n",
              "    </tr>\n",
              "    <tr>\n",
              "      <th>Sex</th>\n",
              "      <th></th>\n",
              "      <th></th>\n",
              "    </tr>\n",
              "  </thead>\n",
              "  <tbody>\n",
              "    <tr>\n",
              "      <th>female</th>\n",
              "      <td>0.257962</td>\n",
              "      <td>0.742038</td>\n",
              "    </tr>\n",
              "    <tr>\n",
              "      <th>male</th>\n",
              "      <td>0.811092</td>\n",
              "      <td>0.188908</td>\n",
              "    </tr>\n",
              "    <tr>\n",
              "      <th>All</th>\n",
              "      <td>0.616162</td>\n",
              "      <td>0.383838</td>\n",
              "    </tr>\n",
              "  </tbody>\n",
              "</table>\n",
              "</div>"
            ],
            "text/plain": [
              "Survived         0         1\n",
              "Sex                         \n",
              "female    0.257962  0.742038\n",
              "male      0.811092  0.188908\n",
              "All       0.616162  0.383838"
            ]
          },
          "metadata": {
            "tags": []
          },
          "execution_count": 72
        }
      ]
    },
    {
      "cell_type": "code",
      "metadata": {
        "id": "SyLSjCvfVCVD",
        "colab_type": "code",
        "colab": {
          "base_uri": "https://localhost:8080/",
          "height": 382
        },
        "outputId": "4ae47e72-0818-48b6-c764-9cbad1583bca"
      },
      "source": [
        "sns.factorplot(x='Sex',y='Survived',kind='point',data=df,palette=['#ff4125'],size=5,aspect=1)"
      ],
      "execution_count": 73,
      "outputs": [
        {
          "output_type": "execute_result",
          "data": {
            "text/plain": [
              "<seaborn.axisgrid.FacetGrid at 0x7f574c4b6cc0>"
            ]
          },
          "metadata": {
            "tags": []
          },
          "execution_count": 73
        },
        {
          "output_type": "display_data",
          "data": {
            "image/png": "[encoded data removed]",
            "text/plain": [
              "<Figure size 360x360 with 1 Axes>"
            ]
          },
          "metadata": {
            "tags": []
          }
        }
      ]
    },
    {
      "cell_type": "code",
      "metadata": {
        "id": "idseZ3VaVWmm",
        "colab_type": "code",
        "colab": {
          "base_uri": "https://localhost:8080/",
          "height": 382
        },
        "outputId": "3ee445e6-d10f-483e-b1f2-896f3ded9e5f"
      },
      "source": [
        "sns.factorplot(x='Sex',y='Survived',data=df,kind='bar',palette=['#0000ff','#FFB6C1'],size=5,aspect=1)"
      ],
      "execution_count": 74,
      "outputs": [
        {
          "output_type": "execute_result",
          "data": {
            "text/plain": [
              "<seaborn.axisgrid.FacetGrid at 0x7f574cf40390>"
            ]
          },
          "metadata": {
            "tags": []
          },
          "execution_count": 74
        },
        {
          "output_type": "display_data",
          "data": {
            "image/png": "[encoded data removed]",
            "text/plain": [
              "<Figure size 360x360 with 1 Axes>"
            ]
          },
          "metadata": {
            "tags": []
          }
        }
      ]
    },
    {
      "cell_type": "markdown",
      "metadata": {
        "id": "2yI0XFNvVe_e",
        "colab_type": "text"
      },
      "source": [
        "around 18% of all males survived whereas around 75% of females survived. This again shows that females survived in greater number."
      ]
    },
    {
      "cell_type": "code",
      "metadata": {
        "id": "dU8cxS30VYut",
        "colab_type": "code",
        "colab": {
          "base_uri": "https://localhost:8080/",
          "height": 199
        },
        "outputId": "62ea98cd-0164-4d40-c94b-c4d7f86fee9f"
      },
      "source": [
        "# consider 'Pclass' feature.\n",
        "df[df.Survived==1].groupby('Pclass').Survived.count()\n",
        "pd.crosstab(index=[df.Pclass],columns=[df.Survived],margins=True) # set normalize=index to view rowwise %."
      ],
      "execution_count": 75,
      "outputs": [
        {
          "output_type": "execute_result",
          "data": {
            "text/html": [
              "<div>\n",
              "<style scoped>\n",
              "    .dataframe tbody tr th:only-of-type {\n",
              "        vertical-align: middle;\n",
              "    }\n",
              "\n",
              "    .dataframe tbody tr th {\n",
              "        vertical-align: top;\n",
              "    }\n",
              "\n",
              "    .dataframe thead th {\n",
              "        text-align: right;\n",
              "    }\n",
              "</style>\n",
              "<table border=\"1\" class=\"dataframe\">\n",
              "  <thead>\n",
              "    <tr style=\"text-align: right;\">\n",
              "      <th>Survived</th>\n",
              "      <th>0</th>\n",
              "      <th>1</th>\n",
              "      <th>All</th>\n",
              "    </tr>\n",
              "    <tr>\n",
              "      <th>Pclass</th>\n",
              "      <th></th>\n",
              "      <th></th>\n",
              "      <th></th>\n",
              "    </tr>\n",
              "  </thead>\n",
              "  <tbody>\n",
              "    <tr>\n",
              "      <th>1</th>\n",
              "      <td>80</td>\n",
              "      <td>136</td>\n",
              "      <td>216</td>\n",
              "    </tr>\n",
              "    <tr>\n",
              "      <th>2</th>\n",
              "      <td>97</td>\n",
              "      <td>87</td>\n",
              "      <td>184</td>\n",
              "    </tr>\n",
              "    <tr>\n",
              "      <th>3</th>\n",
              "      <td>372</td>\n",
              "      <td>119</td>\n",
              "      <td>491</td>\n",
              "    </tr>\n",
              "    <tr>\n",
              "      <th>All</th>\n",
              "      <td>549</td>\n",
              "      <td>342</td>\n",
              "      <td>891</td>\n",
              "    </tr>\n",
              "  </tbody>\n",
              "</table>\n",
              "</div>"
            ],
            "text/plain": [
              "Survived    0    1  All\n",
              "Pclass                 \n",
              "1          80  136  216\n",
              "2          97   87  184\n",
              "3         372  119  491\n",
              "All       549  342  891"
            ]
          },
          "metadata": {
            "tags": []
          },
          "execution_count": 75
        }
      ]
    },
    {
      "cell_type": "code",
      "metadata": {
        "id": "g_8iEU09VjCz",
        "colab_type": "code",
        "colab": {
          "base_uri": "https://localhost:8080/",
          "height": 382
        },
        "outputId": "e5e88508-fde1-47f5-ef8f-cd125cdbf560"
      },
      "source": [
        "sns.factorplot(x='Survived',y=None,hue='Pclass',kind='count',data=df,size=5,aspect=1,palette=['#ff0000','#006400','#0000ff'])"
      ],
      "execution_count": 76,
      "outputs": [
        {
          "output_type": "execute_result",
          "data": {
            "text/plain": [
              "<seaborn.axisgrid.FacetGrid at 0x7f574c48a400>"
            ]
          },
          "metadata": {
            "tags": []
          },
          "execution_count": 76
        },
        {
          "output_type": "display_data",
          "data": {
            "image/png": "[encoded data removed]",
            "text/plain": [
              "<Figure size 406.6x360 with 1 Axes>"
            ]
          },
          "metadata": {
            "tags": []
          }
        }
      ]
    },
    {
      "cell_type": "code",
      "metadata": {
        "id": "djz_SY0eVlV5",
        "colab_type": "code",
        "colab": {
          "base_uri": "https://localhost:8080/",
          "height": 199
        },
        "outputId": "3525a2eb-852a-455e-837b-77c45dd8c5f8"
      },
      "source": [
        "# consider 'Pclass' feature.\n",
        "df[df.Survived==1].groupby('Pclass').Survived.count()\n",
        "pd.crosstab(index=[df.Pclass],columns=[df.Survived],margins=True,normalize=True) # set normalize=index to view rowwise %."
      ],
      "execution_count": 77,
      "outputs": [
        {
          "output_type": "execute_result",
          "data": {
            "text/html": [
              "<div>\n",
              "<style scoped>\n",
              "    .dataframe tbody tr th:only-of-type {\n",
              "        vertical-align: middle;\n",
              "    }\n",
              "\n",
              "    .dataframe tbody tr th {\n",
              "        vertical-align: top;\n",
              "    }\n",
              "\n",
              "    .dataframe thead th {\n",
              "        text-align: right;\n",
              "    }\n",
              "</style>\n",
              "<table border=\"1\" class=\"dataframe\">\n",
              "  <thead>\n",
              "    <tr style=\"text-align: right;\">\n",
              "      <th>Survived</th>\n",
              "      <th>0</th>\n",
              "      <th>1</th>\n",
              "      <th>All</th>\n",
              "    </tr>\n",
              "    <tr>\n",
              "      <th>Pclass</th>\n",
              "      <th></th>\n",
              "      <th></th>\n",
              "      <th></th>\n",
              "    </tr>\n",
              "  </thead>\n",
              "  <tbody>\n",
              "    <tr>\n",
              "      <th>1</th>\n",
              "      <td>0.089787</td>\n",
              "      <td>0.152637</td>\n",
              "      <td>0.242424</td>\n",
              "    </tr>\n",
              "    <tr>\n",
              "      <th>2</th>\n",
              "      <td>0.108866</td>\n",
              "      <td>0.097643</td>\n",
              "      <td>0.206510</td>\n",
              "    </tr>\n",
              "    <tr>\n",
              "      <th>3</th>\n",
              "      <td>0.417508</td>\n",
              "      <td>0.133558</td>\n",
              "      <td>0.551066</td>\n",
              "    </tr>\n",
              "    <tr>\n",
              "      <th>All</th>\n",
              "      <td>0.616162</td>\n",
              "      <td>0.383838</td>\n",
              "      <td>1.000000</td>\n",
              "    </tr>\n",
              "  </tbody>\n",
              "</table>\n",
              "</div>"
            ],
            "text/plain": [
              "Survived         0         1       All\n",
              "Pclass                                \n",
              "1         0.089787  0.152637  0.242424\n",
              "2         0.108866  0.097643  0.206510\n",
              "3         0.417508  0.133558  0.551066\n",
              "All       0.616162  0.383838  1.000000"
            ]
          },
          "metadata": {
            "tags": []
          },
          "execution_count": 77
        }
      ]
    },
    {
      "cell_type": "markdown",
      "metadata": {
        "id": "Mjj6c_GTVry7",
        "colab_type": "text"
      },
      "source": [
        "this again shows that 38% of people survived that accident. also this highlights that only 9% of total passengers who traveled in Pclass 2 survived and rest died and similarly 15% of passengers in Pclass 1 survived and rest died."
      ]
    },
    {
      "cell_type": "code",
      "metadata": {
        "id": "BSv1Mol3VpWT",
        "colab_type": "code",
        "colab": {
          "base_uri": "https://localhost:8080/",
          "height": 199
        },
        "outputId": "130c06d0-91d5-479b-96ad-1c035f10fece"
      },
      "source": [
        "pd.crosstab(index=[df.Pclass],columns=[df.Survived],margins=True,normalize='index') "
      ],
      "execution_count": 78,
      "outputs": [
        {
          "output_type": "execute_result",
          "data": {
            "text/html": [
              "<div>\n",
              "<style scoped>\n",
              "    .dataframe tbody tr th:only-of-type {\n",
              "        vertical-align: middle;\n",
              "    }\n",
              "\n",
              "    .dataframe tbody tr th {\n",
              "        vertical-align: top;\n",
              "    }\n",
              "\n",
              "    .dataframe thead th {\n",
              "        text-align: right;\n",
              "    }\n",
              "</style>\n",
              "<table border=\"1\" class=\"dataframe\">\n",
              "  <thead>\n",
              "    <tr style=\"text-align: right;\">\n",
              "      <th>Survived</th>\n",
              "      <th>0</th>\n",
              "      <th>1</th>\n",
              "    </tr>\n",
              "    <tr>\n",
              "      <th>Pclass</th>\n",
              "      <th></th>\n",
              "      <th></th>\n",
              "    </tr>\n",
              "  </thead>\n",
              "  <tbody>\n",
              "    <tr>\n",
              "      <th>1</th>\n",
              "      <td>0.370370</td>\n",
              "      <td>0.629630</td>\n",
              "    </tr>\n",
              "    <tr>\n",
              "      <th>2</th>\n",
              "      <td>0.527174</td>\n",
              "      <td>0.472826</td>\n",
              "    </tr>\n",
              "    <tr>\n",
              "      <th>3</th>\n",
              "      <td>0.757637</td>\n",
              "      <td>0.242363</td>\n",
              "    </tr>\n",
              "    <tr>\n",
              "      <th>All</th>\n",
              "      <td>0.616162</td>\n",
              "      <td>0.383838</td>\n",
              "    </tr>\n",
              "  </tbody>\n",
              "</table>\n",
              "</div>"
            ],
            "text/plain": [
              "Survived         0         1\n",
              "Pclass                      \n",
              "1         0.370370  0.629630\n",
              "2         0.527174  0.472826\n",
              "3         0.757637  0.242363\n",
              "All       0.616162  0.383838"
            ]
          },
          "metadata": {
            "tags": []
          },
          "execution_count": 78
        }
      ]
    },
    {
      "cell_type": "code",
      "metadata": {
        "id": "_kR3XhAWVuet",
        "colab_type": "code",
        "colab": {
          "base_uri": "https://localhost:8080/",
          "height": 382
        },
        "outputId": "0aa6cbc8-c497-4a14-c9d4-709da6cb9d23"
      },
      "source": [
        "sns.factorplot(x='Pclass',y='Survived',kind='point',data=df,size=5,aspect=1,palette=['#ff0000'])"
      ],
      "execution_count": 79,
      "outputs": [
        {
          "output_type": "execute_result",
          "data": {
            "text/plain": [
              "<seaborn.axisgrid.FacetGrid at 0x7f574c4c2588>"
            ]
          },
          "metadata": {
            "tags": []
          },
          "execution_count": 79
        },
        {
          "output_type": "display_data",
          "data": {
            "image/png": "[encoded data removed]",
            "text/plain": [
              "<Figure size 360x360 with 1 Axes>"
            ]
          },
          "metadata": {
            "tags": []
          }
        }
      ]
    },
    {
      "cell_type": "code",
      "metadata": {
        "id": "mAgp7B5CV3Gw",
        "colab_type": "code",
        "colab": {
          "base_uri": "https://localhost:8080/",
          "height": 382
        },
        "outputId": "742eb7df-ae7c-41a7-cb64-18eedc3cb1f4"
      },
      "source": [
        "sns.factorplot(x='Pclass',y='Survived',data=df,kind='bar',palette=['#ff0000','#006400','#0000ff'],size=5,aspect=1)"
      ],
      "execution_count": 80,
      "outputs": [
        {
          "output_type": "execute_result",
          "data": {
            "text/plain": [
              "<seaborn.axisgrid.FacetGrid at 0x7f574c37d240>"
            ]
          },
          "metadata": {
            "tags": []
          },
          "execution_count": 80
        },
        {
          "output_type": "display_data",
          "data": {
            "image/png": "[encoded data removed]",
            "text/plain": [
              "<Figure size 360x360 with 1 Axes>"
            ]
          },
          "metadata": {
            "tags": []
          }
        }
      ]
    },
    {
      "cell_type": "markdown",
      "metadata": {
        "id": "ZP9ZhAzfWAX6",
        "colab_type": "text"
      },
      "source": [
        "now this shows an even better picture. 75 % of people died in class 3 and only 24% survived. similarly for class 2.for class 1 only 37% died and rest survived probably bcoz of better facilities.in a nutshell most of the people in pclass 1 survived and most of the people in plass 3 died."
      ]
    },
    {
      "cell_type": "code",
      "metadata": {
        "id": "BoGOC_LrV5Su",
        "colab_type": "code",
        "colab": {
          "base_uri": "https://localhost:8080/",
          "height": 290
        },
        "outputId": "6cb956e6-c356-44e9-db4d-21704637e19c"
      },
      "source": [
        "# grouping by both male or female and the respective Pclasses\n",
        "pd.crosstab(index=[df.Sex,df.Pclass],columns=[df.Survived],margins=True) \n",
        "# the result clearly shows that most of the male in class 2 and 3 died and most of the females in class 1 and 2 survived.\n",
        "# see the tabulation below."
      ],
      "execution_count": 81,
      "outputs": [
        {
          "output_type": "execute_result",
          "data": {
            "text/html": [
              "<div>\n",
              "<style scoped>\n",
              "    .dataframe tbody tr th:only-of-type {\n",
              "        vertical-align: middle;\n",
              "    }\n",
              "\n",
              "    .dataframe tbody tr th {\n",
              "        vertical-align: top;\n",
              "    }\n",
              "\n",
              "    .dataframe thead th {\n",
              "        text-align: right;\n",
              "    }\n",
              "</style>\n",
              "<table border=\"1\" class=\"dataframe\">\n",
              "  <thead>\n",
              "    <tr style=\"text-align: right;\">\n",
              "      <th></th>\n",
              "      <th>Survived</th>\n",
              "      <th>0</th>\n",
              "      <th>1</th>\n",
              "      <th>All</th>\n",
              "    </tr>\n",
              "    <tr>\n",
              "      <th>Sex</th>\n",
              "      <th>Pclass</th>\n",
              "      <th></th>\n",
              "      <th></th>\n",
              "      <th></th>\n",
              "    </tr>\n",
              "  </thead>\n",
              "  <tbody>\n",
              "    <tr>\n",
              "      <th rowspan=\"3\" valign=\"top\">female</th>\n",
              "      <th>1</th>\n",
              "      <td>3</td>\n",
              "      <td>91</td>\n",
              "      <td>94</td>\n",
              "    </tr>\n",
              "    <tr>\n",
              "      <th>2</th>\n",
              "      <td>6</td>\n",
              "      <td>70</td>\n",
              "      <td>76</td>\n",
              "    </tr>\n",
              "    <tr>\n",
              "      <th>3</th>\n",
              "      <td>72</td>\n",
              "      <td>72</td>\n",
              "      <td>144</td>\n",
              "    </tr>\n",
              "    <tr>\n",
              "      <th rowspan=\"3\" valign=\"top\">male</th>\n",
              "      <th>1</th>\n",
              "      <td>77</td>\n",
              "      <td>45</td>\n",
              "      <td>122</td>\n",
              "    </tr>\n",
              "    <tr>\n",
              "      <th>2</th>\n",
              "      <td>91</td>\n",
              "      <td>17</td>\n",
              "      <td>108</td>\n",
              "    </tr>\n",
              "    <tr>\n",
              "      <th>3</th>\n",
              "      <td>300</td>\n",
              "      <td>47</td>\n",
              "      <td>347</td>\n",
              "    </tr>\n",
              "    <tr>\n",
              "      <th>All</th>\n",
              "      <th></th>\n",
              "      <td>549</td>\n",
              "      <td>342</td>\n",
              "      <td>891</td>\n",
              "    </tr>\n",
              "  </tbody>\n",
              "</table>\n",
              "</div>"
            ],
            "text/plain": [
              "Survived         0    1  All\n",
              "Sex    Pclass               \n",
              "female 1         3   91   94\n",
              "       2         6   70   76\n",
              "       3        72   72  144\n",
              "male   1        77   45  122\n",
              "       2        91   17  108\n",
              "       3       300   47  347\n",
              "All            549  342  891"
            ]
          },
          "metadata": {
            "tags": []
          },
          "execution_count": 81
        }
      ]
    },
    {
      "cell_type": "code",
      "metadata": {
        "id": "mR_A-XmSWc16",
        "colab_type": "code",
        "colab": {
          "base_uri": "https://localhost:8080/",
          "height": 382
        },
        "outputId": "0ac3f947-e9bc-41f6-9a30-ae0d8332cf88"
      },
      "source": [
        "sns.factorplot(x='Sex',hue='Pclass',data=df,col='Survived',kind='count',palette=['#ff0000','#006400','#0000ff'],size=5,aspect=1)"
      ],
      "execution_count": 82,
      "outputs": [
        {
          "output_type": "execute_result",
          "data": {
            "text/plain": [
              "<seaborn.axisgrid.FacetGrid at 0x7f574c2ccef0>"
            ]
          },
          "metadata": {
            "tags": []
          },
          "execution_count": 82
        },
        {
          "output_type": "display_data",
          "data": {
            "image/png": "[encoded data removed]",
            "text/plain": [
              "<Figure size 766.6x360 with 2 Axes>"
            ]
          },
          "metadata": {
            "tags": []
          }
        }
      ]
    },
    {
      "cell_type": "markdown",
      "metadata": {
        "id": "hxrxQz1PW-C_",
        "colab_type": "text"
      },
      "source": [
        "the graph highlights the picture very clearly. majority of the males in class 2 and 3 died. this is bcoz they were males and wre traveling in a lower class and hence this makes sense. on the other hand most of the females in class 1 and 2 survived which again makes sense as females were given prioroty and also they were traveling in higher classes"
      ]
    },
    {
      "cell_type": "code",
      "metadata": {
        "id": "aLWHKZdtWmqf",
        "colab_type": "code",
        "colab": {
          "base_uri": "https://localhost:8080/",
          "height": 199
        },
        "outputId": "f770300c-9a10-466a-9312-3c318246ef28"
      },
      "source": [
        " #now let us see how survival varies with 'Embarked'\n",
        "df.groupby('Embarked').Survived.count() # most of the people were embarked with 'S'\n",
        "\n",
        "pd.crosstab(index=[df.Embarked],columns=[df.Survived],margins=True,normalize='index')"
      ],
      "execution_count": 83,
      "outputs": [
        {
          "output_type": "execute_result",
          "data": {
            "text/html": [
              "<div>\n",
              "<style scoped>\n",
              "    .dataframe tbody tr th:only-of-type {\n",
              "        vertical-align: middle;\n",
              "    }\n",
              "\n",
              "    .dataframe tbody tr th {\n",
              "        vertical-align: top;\n",
              "    }\n",
              "\n",
              "    .dataframe thead th {\n",
              "        text-align: right;\n",
              "    }\n",
              "</style>\n",
              "<table border=\"1\" class=\"dataframe\">\n",
              "  <thead>\n",
              "    <tr style=\"text-align: right;\">\n",
              "      <th>Survived</th>\n",
              "      <th>0</th>\n",
              "      <th>1</th>\n",
              "    </tr>\n",
              "    <tr>\n",
              "      <th>Embarked</th>\n",
              "      <th></th>\n",
              "      <th></th>\n",
              "    </tr>\n",
              "  </thead>\n",
              "  <tbody>\n",
              "    <tr>\n",
              "      <th>C</th>\n",
              "      <td>0.446429</td>\n",
              "      <td>0.553571</td>\n",
              "    </tr>\n",
              "    <tr>\n",
              "      <th>Q</th>\n",
              "      <td>0.610390</td>\n",
              "      <td>0.389610</td>\n",
              "    </tr>\n",
              "    <tr>\n",
              "      <th>S</th>\n",
              "      <td>0.663043</td>\n",
              "      <td>0.336957</td>\n",
              "    </tr>\n",
              "    <tr>\n",
              "      <th>All</th>\n",
              "      <td>0.617548</td>\n",
              "      <td>0.382452</td>\n",
              "    </tr>\n",
              "  </tbody>\n",
              "</table>\n",
              "</div>"
            ],
            "text/plain": [
              "Survived         0         1\n",
              "Embarked                    \n",
              "C         0.446429  0.553571\n",
              "Q         0.610390  0.389610\n",
              "S         0.663043  0.336957\n",
              "All       0.617548  0.382452"
            ]
          },
          "metadata": {
            "tags": []
          },
          "execution_count": 83
        }
      ]
    },
    {
      "cell_type": "code",
      "metadata": {
        "id": "e48GBkbqXBi6",
        "colab_type": "code",
        "colab": {
          "base_uri": "https://localhost:8080/",
          "height": 382
        },
        "outputId": "afa22c0e-a285-435e-e49a-30e15b00292e"
      },
      "source": [
        "sns.factorplot(x='Survived',data=df,hue='Embarked',kind='count',palette=['#ff0000','#006400','#0000ff'],size=5,aspect=1)"
      ],
      "execution_count": 84,
      "outputs": [
        {
          "output_type": "execute_result",
          "data": {
            "text/plain": [
              "<seaborn.axisgrid.FacetGrid at 0x7f574c189860>"
            ]
          },
          "metadata": {
            "tags": []
          },
          "execution_count": 84
        },
        {
          "output_type": "display_data",
          "data": {
            "image/png": "[encoded data removed]",
            "text/plain": [
              "<Figure size 429.8x360 with 1 Axes>"
            ]
          },
          "metadata": {
            "tags": []
          }
        }
      ]
    },
    {
      "cell_type": "code",
      "metadata": {
        "id": "1gsRUjJEXEfX",
        "colab_type": "code",
        "colab": {
          "base_uri": "https://localhost:8080/",
          "height": 290
        },
        "outputId": "3c780283-350b-4b96-daaa-d5f1c54fc201"
      },
      "source": [
        "pd.crosstab(index=[df.Sex,df.Embarked],columns=[df.Survived],margins=True)"
      ],
      "execution_count": 85,
      "outputs": [
        {
          "output_type": "execute_result",
          "data": {
            "text/html": [
              "<div>\n",
              "<style scoped>\n",
              "    .dataframe tbody tr th:only-of-type {\n",
              "        vertical-align: middle;\n",
              "    }\n",
              "\n",
              "    .dataframe tbody tr th {\n",
              "        vertical-align: top;\n",
              "    }\n",
              "\n",
              "    .dataframe thead th {\n",
              "        text-align: right;\n",
              "    }\n",
              "</style>\n",
              "<table border=\"1\" class=\"dataframe\">\n",
              "  <thead>\n",
              "    <tr style=\"text-align: right;\">\n",
              "      <th></th>\n",
              "      <th>Survived</th>\n",
              "      <th>0</th>\n",
              "      <th>1</th>\n",
              "      <th>All</th>\n",
              "    </tr>\n",
              "    <tr>\n",
              "      <th>Sex</th>\n",
              "      <th>Embarked</th>\n",
              "      <th></th>\n",
              "      <th></th>\n",
              "      <th></th>\n",
              "    </tr>\n",
              "  </thead>\n",
              "  <tbody>\n",
              "    <tr>\n",
              "      <th rowspan=\"3\" valign=\"top\">female</th>\n",
              "      <th>C</th>\n",
              "      <td>9</td>\n",
              "      <td>64</td>\n",
              "      <td>73</td>\n",
              "    </tr>\n",
              "    <tr>\n",
              "      <th>Q</th>\n",
              "      <td>9</td>\n",
              "      <td>27</td>\n",
              "      <td>36</td>\n",
              "    </tr>\n",
              "    <tr>\n",
              "      <th>S</th>\n",
              "      <td>63</td>\n",
              "      <td>140</td>\n",
              "      <td>203</td>\n",
              "    </tr>\n",
              "    <tr>\n",
              "      <th rowspan=\"3\" valign=\"top\">male</th>\n",
              "      <th>C</th>\n",
              "      <td>66</td>\n",
              "      <td>29</td>\n",
              "      <td>95</td>\n",
              "    </tr>\n",
              "    <tr>\n",
              "      <th>Q</th>\n",
              "      <td>38</td>\n",
              "      <td>3</td>\n",
              "      <td>41</td>\n",
              "    </tr>\n",
              "    <tr>\n",
              "      <th>S</th>\n",
              "      <td>364</td>\n",
              "      <td>77</td>\n",
              "      <td>441</td>\n",
              "    </tr>\n",
              "    <tr>\n",
              "      <th>All</th>\n",
              "      <th></th>\n",
              "      <td>549</td>\n",
              "      <td>340</td>\n",
              "      <td>889</td>\n",
              "    </tr>\n",
              "  </tbody>\n",
              "</table>\n",
              "</div>"
            ],
            "text/plain": [
              "Survived           0    1  All\n",
              "Sex    Embarked               \n",
              "female C           9   64   73\n",
              "       Q           9   27   36\n",
              "       S          63  140  203\n",
              "male   C          66   29   95\n",
              "       Q          38    3   41\n",
              "       S         364   77  441\n",
              "All              549  340  889"
            ]
          },
          "metadata": {
            "tags": []
          },
          "execution_count": 85
        }
      ]
    },
    {
      "cell_type": "code",
      "metadata": {
        "id": "7_IVE_VxXK8s",
        "colab_type": "code",
        "colab": {
          "base_uri": "https://localhost:8080/",
          "height": 382
        },
        "outputId": "4c14c3eb-eaab-4ca6-ad38-62043331916c"
      },
      "source": [
        "sns.factorplot(x='Sex',data=df,kind='count',hue='Embarked',col='Survived',palette=['#ff0000','#006400','#0000ff'],size=5,aspect=1)"
      ],
      "execution_count": 86,
      "outputs": [
        {
          "output_type": "execute_result",
          "data": {
            "text/plain": [
              "<seaborn.axisgrid.FacetGrid at 0x7f574c2d8f28>"
            ]
          },
          "metadata": {
            "tags": []
          },
          "execution_count": 86
        },
        {
          "output_type": "display_data",
          "data": {
            "image/png": "[encoded data removed]",
            "text/plain": [
              "<Figure size 789.8x360 with 2 Axes>"
            ]
          },
          "metadata": {
            "tags": []
          }
        }
      ]
    },
    {
      "cell_type": "markdown",
      "metadata": {
        "id": "n5z6OjYiXcEA",
        "colab_type": "text"
      },
      "source": [
        "the graph clearly shows that majority of the males embarked with S died . also very few females died who were embarked C or Q."
      ]
    },
    {
      "cell_type": "code",
      "metadata": {
        "id": "SfJOwKV4XOIg",
        "colab_type": "code",
        "colab": {
          "base_uri": "https://localhost:8080/",
          "height": 381
        },
        "outputId": "95d27b63-0576-4552-82ea-7464e7837ff0"
      },
      "source": [
        "pd.crosstab(index=[df.Pclass,df.Embarked],columns=[df.Survived],margins=True)"
      ],
      "execution_count": 87,
      "outputs": [
        {
          "output_type": "execute_result",
          "data": {
            "text/html": [
              "<div>\n",
              "<style scoped>\n",
              "    .dataframe tbody tr th:only-of-type {\n",
              "        vertical-align: middle;\n",
              "    }\n",
              "\n",
              "    .dataframe tbody tr th {\n",
              "        vertical-align: top;\n",
              "    }\n",
              "\n",
              "    .dataframe thead th {\n",
              "        text-align: right;\n",
              "    }\n",
              "</style>\n",
              "<table border=\"1\" class=\"dataframe\">\n",
              "  <thead>\n",
              "    <tr style=\"text-align: right;\">\n",
              "      <th></th>\n",
              "      <th>Survived</th>\n",
              "      <th>0</th>\n",
              "      <th>1</th>\n",
              "      <th>All</th>\n",
              "    </tr>\n",
              "    <tr>\n",
              "      <th>Pclass</th>\n",
              "      <th>Embarked</th>\n",
              "      <th></th>\n",
              "      <th></th>\n",
              "      <th></th>\n",
              "    </tr>\n",
              "  </thead>\n",
              "  <tbody>\n",
              "    <tr>\n",
              "      <th rowspan=\"3\" valign=\"top\">1</th>\n",
              "      <th>C</th>\n",
              "      <td>26</td>\n",
              "      <td>59</td>\n",
              "      <td>85</td>\n",
              "    </tr>\n",
              "    <tr>\n",
              "      <th>Q</th>\n",
              "      <td>1</td>\n",
              "      <td>1</td>\n",
              "      <td>2</td>\n",
              "    </tr>\n",
              "    <tr>\n",
              "      <th>S</th>\n",
              "      <td>53</td>\n",
              "      <td>74</td>\n",
              "      <td>127</td>\n",
              "    </tr>\n",
              "    <tr>\n",
              "      <th rowspan=\"3\" valign=\"top\">2</th>\n",
              "      <th>C</th>\n",
              "      <td>8</td>\n",
              "      <td>9</td>\n",
              "      <td>17</td>\n",
              "    </tr>\n",
              "    <tr>\n",
              "      <th>Q</th>\n",
              "      <td>1</td>\n",
              "      <td>2</td>\n",
              "      <td>3</td>\n",
              "    </tr>\n",
              "    <tr>\n",
              "      <th>S</th>\n",
              "      <td>88</td>\n",
              "      <td>76</td>\n",
              "      <td>164</td>\n",
              "    </tr>\n",
              "    <tr>\n",
              "      <th rowspan=\"3\" valign=\"top\">3</th>\n",
              "      <th>C</th>\n",
              "      <td>41</td>\n",
              "      <td>25</td>\n",
              "      <td>66</td>\n",
              "    </tr>\n",
              "    <tr>\n",
              "      <th>Q</th>\n",
              "      <td>45</td>\n",
              "      <td>27</td>\n",
              "      <td>72</td>\n",
              "    </tr>\n",
              "    <tr>\n",
              "      <th>S</th>\n",
              "      <td>286</td>\n",
              "      <td>67</td>\n",
              "      <td>353</td>\n",
              "    </tr>\n",
              "    <tr>\n",
              "      <th>All</th>\n",
              "      <th></th>\n",
              "      <td>549</td>\n",
              "      <td>340</td>\n",
              "      <td>889</td>\n",
              "    </tr>\n",
              "  </tbody>\n",
              "</table>\n",
              "</div>"
            ],
            "text/plain": [
              "Survived           0    1  All\n",
              "Pclass Embarked               \n",
              "1      C          26   59   85\n",
              "       Q           1    1    2\n",
              "       S          53   74  127\n",
              "2      C           8    9   17\n",
              "       Q           1    2    3\n",
              "       S          88   76  164\n",
              "3      C          41   25   66\n",
              "       Q          45   27   72\n",
              "       S         286   67  353\n",
              "All              549  340  889"
            ]
          },
          "metadata": {
            "tags": []
          },
          "execution_count": 87
        }
      ]
    },
    {
      "cell_type": "code",
      "metadata": {
        "id": "cOfAHsNcXuRK",
        "colab_type": "code",
        "colab": {
          "base_uri": "https://localhost:8080/",
          "height": 353
        },
        "outputId": "ab318344-76e5-4b0b-8376-768a85b83786"
      },
      "source": [
        "sns.factorplot(x='Survived',col='Embarked',data=df,hue='Pclass',kind='count',palette=['#ff0000','#006400','#0000ff'],size=5,aspect=1)"
      ],
      "execution_count": 88,
      "outputs": [
        {
          "output_type": "execute_result",
          "data": {
            "text/plain": [
              "<seaborn.axisgrid.FacetGrid at 0x7f574c093b38>"
            ]
          },
          "metadata": {
            "tags": []
          },
          "execution_count": 88
        },
        {
          "output_type": "display_data",
          "data": {
            "image/png": "[encoded data removed]",
            "text/plain": [
              "<Figure size 1126.6x360 with 3 Axes>"
            ]
          },
          "metadata": {
            "tags": []
          }
        }
      ]
    },
    {
      "cell_type": "code",
      "metadata": {
        "id": "UbRh-6clX0MO",
        "colab_type": "code",
        "colab": {}
      },
      "source": [
        " # now we need to convert categorical variables into numerical for modelling.\n",
        " # can use labels or sep col using get_dummies()\n",
        "\n",
        "#sex\n",
        "for frame in [train,test,df,test_df]:\n",
        "    frame.loc[frame.Sex=='male','Sex']=0\n",
        "    frame.loc[frame.Sex=='female','Sex']=1\n",
        "    \n",
        "#embarked    \n",
        "for frame in [train,test,df,test_df]:\n",
        "    frame.loc[frame.Embarked=='C','Embarked']=0\n",
        "    frame.loc[frame.Embarked=='S','Embarked']=1\n",
        "    frame.loc[frame.Embarked=='Q','Embarked']=2\n",
        "#df.head(10)\n",
        "        "
      ],
      "execution_count": 89,
      "outputs": []
    },
    {
      "cell_type": "code",
      "metadata": {
        "id": "HunEub1dYYHK",
        "colab_type": "code",
        "colab": {
          "base_uri": "https://localhost:8080/",
          "height": 351
        },
        "outputId": "214746db-d2f6-47c6-b397-8614af083a25"
      },
      "source": [
        "#now age and fare are continuous variables.\n",
        "#we can convert them to discrete intervals.\n",
        "\n",
        "#age\n",
        "df.Age.describe()   # age varies from 0.42 to 80.00\n",
        "for frame in [train,test,df,test_df]:\n",
        "    frame['bin_age']=np.nan\n",
        "    frame['bin_age']=np.floor(frame['Age'])//10\n",
        "    frame['bin_fare']=np.nan\n",
        "    frame['bin_fare']=np.floor(frame['Fare'])//50\n",
        "    \n",
        "df.head(10)[['Fare','bin_fare','Age','bin_age']] \n",
        "# df.bin_age.unique()\n",
        "# df.bin_fare.unique()\n",
        " "
      ],
      "execution_count": 90,
      "outputs": [
        {
          "output_type": "execute_result",
          "data": {
            "text/html": [
              "<div>\n",
              "<style scoped>\n",
              "    .dataframe tbody tr th:only-of-type {\n",
              "        vertical-align: middle;\n",
              "    }\n",
              "\n",
              "    .dataframe tbody tr th {\n",
              "        vertical-align: top;\n",
              "    }\n",
              "\n",
              "    .dataframe thead th {\n",
              "        text-align: right;\n",
              "    }\n",
              "</style>\n",
              "<table border=\"1\" class=\"dataframe\">\n",
              "  <thead>\n",
              "    <tr style=\"text-align: right;\">\n",
              "      <th></th>\n",
              "      <th>Fare</th>\n",
              "      <th>bin_fare</th>\n",
              "      <th>Age</th>\n",
              "      <th>bin_age</th>\n",
              "    </tr>\n",
              "  </thead>\n",
              "  <tbody>\n",
              "    <tr>\n",
              "      <th>0</th>\n",
              "      <td>7.2500</td>\n",
              "      <td>0.0</td>\n",
              "      <td>22.0</td>\n",
              "      <td>2.0</td>\n",
              "    </tr>\n",
              "    <tr>\n",
              "      <th>1</th>\n",
              "      <td>71.2833</td>\n",
              "      <td>1.0</td>\n",
              "      <td>38.0</td>\n",
              "      <td>3.0</td>\n",
              "    </tr>\n",
              "    <tr>\n",
              "      <th>2</th>\n",
              "      <td>7.9250</td>\n",
              "      <td>0.0</td>\n",
              "      <td>26.0</td>\n",
              "      <td>2.0</td>\n",
              "    </tr>\n",
              "    <tr>\n",
              "      <th>3</th>\n",
              "      <td>53.1000</td>\n",
              "      <td>1.0</td>\n",
              "      <td>35.0</td>\n",
              "      <td>3.0</td>\n",
              "    </tr>\n",
              "    <tr>\n",
              "      <th>4</th>\n",
              "      <td>8.0500</td>\n",
              "      <td>0.0</td>\n",
              "      <td>35.0</td>\n",
              "      <td>3.0</td>\n",
              "    </tr>\n",
              "    <tr>\n",
              "      <th>5</th>\n",
              "      <td>8.4583</td>\n",
              "      <td>0.0</td>\n",
              "      <td>NaN</td>\n",
              "      <td>NaN</td>\n",
              "    </tr>\n",
              "    <tr>\n",
              "      <th>6</th>\n",
              "      <td>51.8625</td>\n",
              "      <td>1.0</td>\n",
              "      <td>54.0</td>\n",
              "      <td>5.0</td>\n",
              "    </tr>\n",
              "    <tr>\n",
              "      <th>7</th>\n",
              "      <td>21.0750</td>\n",
              "      <td>0.0</td>\n",
              "      <td>2.0</td>\n",
              "      <td>0.0</td>\n",
              "    </tr>\n",
              "    <tr>\n",
              "      <th>8</th>\n",
              "      <td>11.1333</td>\n",
              "      <td>0.0</td>\n",
              "      <td>27.0</td>\n",
              "      <td>2.0</td>\n",
              "    </tr>\n",
              "    <tr>\n",
              "      <th>9</th>\n",
              "      <td>30.0708</td>\n",
              "      <td>0.0</td>\n",
              "      <td>14.0</td>\n",
              "      <td>1.0</td>\n",
              "    </tr>\n",
              "  </tbody>\n",
              "</table>\n",
              "</div>"
            ],
            "text/plain": [
              "      Fare  bin_fare   Age  bin_age\n",
              "0   7.2500       0.0  22.0      2.0\n",
              "1  71.2833       1.0  38.0      3.0\n",
              "2   7.9250       0.0  26.0      2.0\n",
              "3  53.1000       1.0  35.0      3.0\n",
              "4   8.0500       0.0  35.0      3.0\n",
              "5   8.4583       0.0   NaN      NaN\n",
              "6  51.8625       1.0  54.0      5.0\n",
              "7  21.0750       0.0   2.0      0.0\n",
              "8  11.1333       0.0  27.0      2.0\n",
              "9  30.0708       0.0  14.0      1.0"
            ]
          },
          "metadata": {
            "tags": []
          },
          "execution_count": 90
        }
      ]
    },
    {
      "cell_type": "code",
      "metadata": {
        "id": "ZdySpbsWYfqr",
        "colab_type": "code",
        "colab": {
          "base_uri": "https://localhost:8080/",
          "height": 199
        },
        "outputId": "79d5c4fa-734b-4bbd-9160-26b49999388d"
      },
      "source": [
        "#can drop Age and Fare columns\n",
        "for frame in [train,df,test_df,test]:\n",
        "    frame.drop(['Age','Fare'],axis=1,inplace=True)\n",
        "# df.head()\n",
        "test.head()"
      ],
      "execution_count": 91,
      "outputs": [
        {
          "output_type": "execute_result",
          "data": {
            "text/html": [
              "<div>\n",
              "<style scoped>\n",
              "    .dataframe tbody tr th:only-of-type {\n",
              "        vertical-align: middle;\n",
              "    }\n",
              "\n",
              "    .dataframe tbody tr th {\n",
              "        vertical-align: top;\n",
              "    }\n",
              "\n",
              "    .dataframe thead th {\n",
              "        text-align: right;\n",
              "    }\n",
              "</style>\n",
              "<table border=\"1\" class=\"dataframe\">\n",
              "  <thead>\n",
              "    <tr style=\"text-align: right;\">\n",
              "      <th></th>\n",
              "      <th>PassengerId</th>\n",
              "      <th>Pclass</th>\n",
              "      <th>Name</th>\n",
              "      <th>Sex</th>\n",
              "      <th>SibSp</th>\n",
              "      <th>Parch</th>\n",
              "      <th>Ticket</th>\n",
              "      <th>Cabin</th>\n",
              "      <th>Embarked</th>\n",
              "      <th>bin_age</th>\n",
              "      <th>bin_fare</th>\n",
              "    </tr>\n",
              "  </thead>\n",
              "  <tbody>\n",
              "    <tr>\n",
              "      <th>0</th>\n",
              "      <td>892</td>\n",
              "      <td>3</td>\n",
              "      <td>Kelly, Mr. James</td>\n",
              "      <td>0</td>\n",
              "      <td>0</td>\n",
              "      <td>0</td>\n",
              "      <td>330911</td>\n",
              "      <td>NaN</td>\n",
              "      <td>2</td>\n",
              "      <td>3.0</td>\n",
              "      <td>0.0</td>\n",
              "    </tr>\n",
              "    <tr>\n",
              "      <th>1</th>\n",
              "      <td>893</td>\n",
              "      <td>3</td>\n",
              "      <td>Wilkes, Mrs. James (Ellen Needs)</td>\n",
              "      <td>1</td>\n",
              "      <td>1</td>\n",
              "      <td>0</td>\n",
              "      <td>363272</td>\n",
              "      <td>NaN</td>\n",
              "      <td>1</td>\n",
              "      <td>4.0</td>\n",
              "      <td>0.0</td>\n",
              "    </tr>\n",
              "    <tr>\n",
              "      <th>2</th>\n",
              "      <td>894</td>\n",
              "      <td>2</td>\n",
              "      <td>Myles, Mr. Thomas Francis</td>\n",
              "      <td>0</td>\n",
              "      <td>0</td>\n",
              "      <td>0</td>\n",
              "      <td>240276</td>\n",
              "      <td>NaN</td>\n",
              "      <td>2</td>\n",
              "      <td>6.0</td>\n",
              "      <td>0.0</td>\n",
              "    </tr>\n",
              "    <tr>\n",
              "      <th>3</th>\n",
              "      <td>895</td>\n",
              "      <td>3</td>\n",
              "      <td>Wirz, Mr. Albert</td>\n",
              "      <td>0</td>\n",
              "      <td>0</td>\n",
              "      <td>0</td>\n",
              "      <td>315154</td>\n",
              "      <td>NaN</td>\n",
              "      <td>1</td>\n",
              "      <td>2.0</td>\n",
              "      <td>0.0</td>\n",
              "    </tr>\n",
              "    <tr>\n",
              "      <th>4</th>\n",
              "      <td>896</td>\n",
              "      <td>3</td>\n",
              "      <td>Hirvonen, Mrs. Alexander (Helga E Lindqvist)</td>\n",
              "      <td>1</td>\n",
              "      <td>1</td>\n",
              "      <td>1</td>\n",
              "      <td>3101298</td>\n",
              "      <td>NaN</td>\n",
              "      <td>1</td>\n",
              "      <td>2.0</td>\n",
              "      <td>0.0</td>\n",
              "    </tr>\n",
              "  </tbody>\n",
              "</table>\n",
              "</div>"
            ],
            "text/plain": [
              "   PassengerId  Pclass  ... bin_age bin_fare\n",
              "0          892       3  ...     3.0      0.0\n",
              "1          893       3  ...     4.0      0.0\n",
              "2          894       2  ...     6.0      0.0\n",
              "3          895       3  ...     2.0      0.0\n",
              "4          896       3  ...     2.0      0.0\n",
              "\n",
              "[5 rows x 11 columns]"
            ]
          },
          "metadata": {
            "tags": []
          },
          "execution_count": 91
        }
      ]
    },
    {
      "cell_type": "code",
      "metadata": {
        "id": "_zdjhAKVYmAP",
        "colab_type": "code",
        "colab": {
          "base_uri": "https://localhost:8080/",
          "height": 260
        },
        "outputId": "45ab8edd-a398-4668-9375-a74ef3d1d182"
      },
      "source": [
        "#now we can see how survival varies with bin_age and bin_fare.\n",
        "df.groupby('bin_age').Survived.count()\n",
        "pd.crosstab(index=[df.bin_age],columns=[df.Survived],margins=True)\n",
        "pd.crosstab(index=[df.Sex,df.Survived],columns=[df.bin_age,df.Pclass],margins=True)"
      ],
      "execution_count": 92,
      "outputs": [
        {
          "output_type": "execute_result",
          "data": {
            "text/html": [
              "<div>\n",
              "<style scoped>\n",
              "    .dataframe tbody tr th:only-of-type {\n",
              "        vertical-align: middle;\n",
              "    }\n",
              "\n",
              "    .dataframe tbody tr th {\n",
              "        vertical-align: top;\n",
              "    }\n",
              "\n",
              "    .dataframe thead tr th {\n",
              "        text-align: left;\n",
              "    }\n",
              "\n",
              "    .dataframe thead tr:last-of-type th {\n",
              "        text-align: right;\n",
              "    }\n",
              "</style>\n",
              "<table border=\"1\" class=\"dataframe\">\n",
              "  <thead>\n",
              "    <tr>\n",
              "      <th></th>\n",
              "      <th>bin_age</th>\n",
              "      <th colspan=\"3\" halign=\"left\">0.0</th>\n",
              "      <th colspan=\"3\" halign=\"left\">1.0</th>\n",
              "      <th colspan=\"3\" halign=\"left\">2.0</th>\n",
              "      <th colspan=\"3\" halign=\"left\">3.0</th>\n",
              "      <th colspan=\"3\" halign=\"left\">4.0</th>\n",
              "      <th colspan=\"3\" halign=\"left\">5.0</th>\n",
              "      <th colspan=\"3\" halign=\"left\">6.0</th>\n",
              "      <th colspan=\"3\" halign=\"left\">7.0</th>\n",
              "      <th>8.0</th>\n",
              "      <th>All</th>\n",
              "    </tr>\n",
              "    <tr>\n",
              "      <th></th>\n",
              "      <th>Pclass</th>\n",
              "      <th>1</th>\n",
              "      <th>2</th>\n",
              "      <th>3</th>\n",
              "      <th>1</th>\n",
              "      <th>2</th>\n",
              "      <th>3</th>\n",
              "      <th>1</th>\n",
              "      <th>2</th>\n",
              "      <th>3</th>\n",
              "      <th>1</th>\n",
              "      <th>2</th>\n",
              "      <th>3</th>\n",
              "      <th>1</th>\n",
              "      <th>2</th>\n",
              "      <th>3</th>\n",
              "      <th>1</th>\n",
              "      <th>2</th>\n",
              "      <th>3</th>\n",
              "      <th>1</th>\n",
              "      <th>2</th>\n",
              "      <th>3</th>\n",
              "      <th>1</th>\n",
              "      <th>2</th>\n",
              "      <th>3</th>\n",
              "      <th>1</th>\n",
              "      <th></th>\n",
              "    </tr>\n",
              "    <tr>\n",
              "      <th>Sex</th>\n",
              "      <th>Survived</th>\n",
              "      <th></th>\n",
              "      <th></th>\n",
              "      <th></th>\n",
              "      <th></th>\n",
              "      <th></th>\n",
              "      <th></th>\n",
              "      <th></th>\n",
              "      <th></th>\n",
              "      <th></th>\n",
              "      <th></th>\n",
              "      <th></th>\n",
              "      <th></th>\n",
              "      <th></th>\n",
              "      <th></th>\n",
              "      <th></th>\n",
              "      <th></th>\n",
              "      <th></th>\n",
              "      <th></th>\n",
              "      <th></th>\n",
              "      <th></th>\n",
              "      <th></th>\n",
              "      <th></th>\n",
              "      <th></th>\n",
              "      <th></th>\n",
              "      <th></th>\n",
              "      <th></th>\n",
              "    </tr>\n",
              "  </thead>\n",
              "  <tbody>\n",
              "    <tr>\n",
              "      <th rowspan=\"2\" valign=\"top\">0</th>\n",
              "      <th>0</th>\n",
              "      <td>0</td>\n",
              "      <td>0</td>\n",
              "      <td>13</td>\n",
              "      <td>3</td>\n",
              "      <td>9</td>\n",
              "      <td>38</td>\n",
              "      <td>9</td>\n",
              "      <td>28</td>\n",
              "      <td>86</td>\n",
              "      <td>11</td>\n",
              "      <td>28</td>\n",
              "      <td>45</td>\n",
              "      <td>15</td>\n",
              "      <td>7</td>\n",
              "      <td>23</td>\n",
              "      <td>11</td>\n",
              "      <td>9</td>\n",
              "      <td>6</td>\n",
              "      <td>9</td>\n",
              "      <td>2</td>\n",
              "      <td>2</td>\n",
              "      <td>3</td>\n",
              "      <td>1</td>\n",
              "      <td>2</td>\n",
              "      <td>0</td>\n",
              "      <td>360</td>\n",
              "    </tr>\n",
              "    <tr>\n",
              "      <th>1</th>\n",
              "      <td>2</td>\n",
              "      <td>9</td>\n",
              "      <td>8</td>\n",
              "      <td>2</td>\n",
              "      <td>1</td>\n",
              "      <td>4</td>\n",
              "      <td>9</td>\n",
              "      <td>0</td>\n",
              "      <td>16</td>\n",
              "      <td>12</td>\n",
              "      <td>3</td>\n",
              "      <td>8</td>\n",
              "      <td>9</td>\n",
              "      <td>1</td>\n",
              "      <td>2</td>\n",
              "      <td>4</td>\n",
              "      <td>0</td>\n",
              "      <td>0</td>\n",
              "      <td>1</td>\n",
              "      <td>1</td>\n",
              "      <td>0</td>\n",
              "      <td>0</td>\n",
              "      <td>0</td>\n",
              "      <td>0</td>\n",
              "      <td>1</td>\n",
              "      <td>93</td>\n",
              "    </tr>\n",
              "    <tr>\n",
              "      <th rowspan=\"2\" valign=\"top\">1</th>\n",
              "      <th>0</th>\n",
              "      <td>1</td>\n",
              "      <td>0</td>\n",
              "      <td>10</td>\n",
              "      <td>0</td>\n",
              "      <td>0</td>\n",
              "      <td>11</td>\n",
              "      <td>1</td>\n",
              "      <td>3</td>\n",
              "      <td>16</td>\n",
              "      <td>0</td>\n",
              "      <td>1</td>\n",
              "      <td>9</td>\n",
              "      <td>0</td>\n",
              "      <td>1</td>\n",
              "      <td>9</td>\n",
              "      <td>1</td>\n",
              "      <td>1</td>\n",
              "      <td>0</td>\n",
              "      <td>0</td>\n",
              "      <td>0</td>\n",
              "      <td>0</td>\n",
              "      <td>0</td>\n",
              "      <td>0</td>\n",
              "      <td>0</td>\n",
              "      <td>0</td>\n",
              "      <td>64</td>\n",
              "    </tr>\n",
              "    <tr>\n",
              "      <th>1</th>\n",
              "      <td>0</td>\n",
              "      <td>8</td>\n",
              "      <td>11</td>\n",
              "      <td>13</td>\n",
              "      <td>8</td>\n",
              "      <td>13</td>\n",
              "      <td>15</td>\n",
              "      <td>22</td>\n",
              "      <td>15</td>\n",
              "      <td>27</td>\n",
              "      <td>16</td>\n",
              "      <td>7</td>\n",
              "      <td>13</td>\n",
              "      <td>9</td>\n",
              "      <td>0</td>\n",
              "      <td>11</td>\n",
              "      <td>5</td>\n",
              "      <td>0</td>\n",
              "      <td>3</td>\n",
              "      <td>0</td>\n",
              "      <td>1</td>\n",
              "      <td>0</td>\n",
              "      <td>0</td>\n",
              "      <td>0</td>\n",
              "      <td>0</td>\n",
              "      <td>197</td>\n",
              "    </tr>\n",
              "    <tr>\n",
              "      <th>All</th>\n",
              "      <th></th>\n",
              "      <td>3</td>\n",
              "      <td>17</td>\n",
              "      <td>42</td>\n",
              "      <td>18</td>\n",
              "      <td>18</td>\n",
              "      <td>66</td>\n",
              "      <td>34</td>\n",
              "      <td>53</td>\n",
              "      <td>133</td>\n",
              "      <td>50</td>\n",
              "      <td>48</td>\n",
              "      <td>69</td>\n",
              "      <td>37</td>\n",
              "      <td>18</td>\n",
              "      <td>34</td>\n",
              "      <td>27</td>\n",
              "      <td>15</td>\n",
              "      <td>6</td>\n",
              "      <td>13</td>\n",
              "      <td>3</td>\n",
              "      <td>3</td>\n",
              "      <td>3</td>\n",
              "      <td>1</td>\n",
              "      <td>2</td>\n",
              "      <td>1</td>\n",
              "      <td>714</td>\n",
              "    </tr>\n",
              "  </tbody>\n",
              "</table>\n",
              "</div>"
            ],
            "text/plain": [
              "bin_age      0.0         1.0         2.0      ... 6.0       7.0       8.0  All\n",
              "Pclass         1   2   3   1   2   3   1   2  ...   1  2  3   1  2  3   1     \n",
              "Sex Survived                                  ...                             \n",
              "0   0          0   0  13   3   9  38   9  28  ...   9  2  2   3  1  2   0  360\n",
              "    1          2   9   8   2   1   4   9   0  ...   1  1  0   0  0  0   1   93\n",
              "1   0          1   0  10   0   0  11   1   3  ...   0  0  0   0  0  0   0   64\n",
              "    1          0   8  11  13   8  13  15  22  ...   3  0  1   0  0  0   0  197\n",
              "All            3  17  42  18  18  66  34  53  ...  13  3  3   3  1  2   1  714\n",
              "\n",
              "[5 rows x 26 columns]"
            ]
          },
          "metadata": {
            "tags": []
          },
          "execution_count": 92
        }
      ]
    },
    {
      "cell_type": "markdown",
      "metadata": {
        "id": "bMjij5U7Ytw0",
        "colab_type": "text"
      },
      "source": [
        "all the males and females in Pclass 2 and first bin_age survived the accident which hints that children were given preference. also note that in Pclass 1 and bin_age 2,3,4 almost all the people survived which again shows that people in Pclass 1 had better facilities."
      ]
    },
    {
      "cell_type": "code",
      "metadata": {
        "id": "8XngOYXbYoC0",
        "colab_type": "code",
        "colab": {
          "base_uri": "https://localhost:8080/",
          "height": 382
        },
        "outputId": "0cba2245-75a1-44e3-a718-0b54da197de3"
      },
      "source": [
        "sns.factorplot(x='bin_age',hue='Survived',kind='count',data=df,palette=['#ff4125','#006400'],size=5,aspect=1)"
      ],
      "execution_count": 93,
      "outputs": [
        {
          "output_type": "execute_result",
          "data": {
            "text/plain": [
              "<seaborn.axisgrid.FacetGrid at 0x7f574c053390>"
            ]
          },
          "metadata": {
            "tags": []
          },
          "execution_count": 93
        },
        {
          "output_type": "display_data",
          "data": {
            "image/png": "[encoded data removed]",
            "text/plain": [
              "<Figure size 421.55x360 with 1 Axes>"
            ]
          },
          "metadata": {
            "tags": []
          }
        }
      ]
    },
    {
      "cell_type": "code",
      "metadata": {
        "id": "Oed4jgssYwXW",
        "colab_type": "code",
        "colab": {
          "base_uri": "https://localhost:8080/",
          "height": 260
        },
        "outputId": "72270496-d664-4ddf-87ab-820a58363dae"
      },
      "source": [
        "#similarly for bin_fare\n",
        "df.groupby('bin_fare').Survived.count()\n",
        "pd.crosstab(index=[df.bin_fare],columns=[df.Survived],margins=True)\n",
        "pd.crosstab(index=[df.Sex,df.Survived],columns=[df.bin_fare,df.Pclass],margins=True)"
      ],
      "execution_count": 94,
      "outputs": [
        {
          "output_type": "execute_result",
          "data": {
            "text/html": [
              "<div>\n",
              "<style scoped>\n",
              "    .dataframe tbody tr th:only-of-type {\n",
              "        vertical-align: middle;\n",
              "    }\n",
              "\n",
              "    .dataframe tbody tr th {\n",
              "        vertical-align: top;\n",
              "    }\n",
              "\n",
              "    .dataframe thead tr th {\n",
              "        text-align: left;\n",
              "    }\n",
              "\n",
              "    .dataframe thead tr:last-of-type th {\n",
              "        text-align: right;\n",
              "    }\n",
              "</style>\n",
              "<table border=\"1\" class=\"dataframe\">\n",
              "  <thead>\n",
              "    <tr>\n",
              "      <th></th>\n",
              "      <th>bin_fare</th>\n",
              "      <th colspan=\"3\" halign=\"left\">0.0</th>\n",
              "      <th colspan=\"3\" halign=\"left\">1.0</th>\n",
              "      <th>2.0</th>\n",
              "      <th>3.0</th>\n",
              "      <th>4.0</th>\n",
              "      <th>5.0</th>\n",
              "      <th>10.0</th>\n",
              "      <th>All</th>\n",
              "    </tr>\n",
              "    <tr>\n",
              "      <th></th>\n",
              "      <th>Pclass</th>\n",
              "      <th>1</th>\n",
              "      <th>2</th>\n",
              "      <th>3</th>\n",
              "      <th>1</th>\n",
              "      <th>2</th>\n",
              "      <th>3</th>\n",
              "      <th>1</th>\n",
              "      <th>1</th>\n",
              "      <th>1</th>\n",
              "      <th>1</th>\n",
              "      <th>1</th>\n",
              "      <th></th>\n",
              "    </tr>\n",
              "    <tr>\n",
              "      <th>Sex</th>\n",
              "      <th>Survived</th>\n",
              "      <th></th>\n",
              "      <th></th>\n",
              "      <th></th>\n",
              "      <th></th>\n",
              "      <th></th>\n",
              "      <th></th>\n",
              "      <th></th>\n",
              "      <th></th>\n",
              "      <th></th>\n",
              "      <th></th>\n",
              "      <th></th>\n",
              "      <th></th>\n",
              "    </tr>\n",
              "  </thead>\n",
              "  <tbody>\n",
              "    <tr>\n",
              "      <th rowspan=\"2\" valign=\"top\">0</th>\n",
              "      <th>0</th>\n",
              "      <td>41</td>\n",
              "      <td>86</td>\n",
              "      <td>294</td>\n",
              "      <td>24</td>\n",
              "      <td>5</td>\n",
              "      <td>6</td>\n",
              "      <td>5</td>\n",
              "      <td>1</td>\n",
              "      <td>4</td>\n",
              "      <td>2</td>\n",
              "      <td>0</td>\n",
              "      <td>468</td>\n",
              "    </tr>\n",
              "    <tr>\n",
              "      <th>1</th>\n",
              "      <td>23</td>\n",
              "      <td>17</td>\n",
              "      <td>42</td>\n",
              "      <td>15</td>\n",
              "      <td>0</td>\n",
              "      <td>5</td>\n",
              "      <td>4</td>\n",
              "      <td>1</td>\n",
              "      <td>0</td>\n",
              "      <td>0</td>\n",
              "      <td>2</td>\n",
              "      <td>109</td>\n",
              "    </tr>\n",
              "    <tr>\n",
              "      <th rowspan=\"2\" valign=\"top\">1</th>\n",
              "      <th>0</th>\n",
              "      <td>1</td>\n",
              "      <td>6</td>\n",
              "      <td>69</td>\n",
              "      <td>0</td>\n",
              "      <td>0</td>\n",
              "      <td>3</td>\n",
              "      <td>0</td>\n",
              "      <td>2</td>\n",
              "      <td>0</td>\n",
              "      <td>0</td>\n",
              "      <td>0</td>\n",
              "      <td>81</td>\n",
              "    </tr>\n",
              "    <tr>\n",
              "      <th>1</th>\n",
              "      <td>11</td>\n",
              "      <td>68</td>\n",
              "      <td>72</td>\n",
              "      <td>48</td>\n",
              "      <td>2</td>\n",
              "      <td>0</td>\n",
              "      <td>15</td>\n",
              "      <td>5</td>\n",
              "      <td>7</td>\n",
              "      <td>4</td>\n",
              "      <td>1</td>\n",
              "      <td>233</td>\n",
              "    </tr>\n",
              "    <tr>\n",
              "      <th>All</th>\n",
              "      <th></th>\n",
              "      <td>76</td>\n",
              "      <td>177</td>\n",
              "      <td>477</td>\n",
              "      <td>87</td>\n",
              "      <td>7</td>\n",
              "      <td>14</td>\n",
              "      <td>24</td>\n",
              "      <td>9</td>\n",
              "      <td>11</td>\n",
              "      <td>6</td>\n",
              "      <td>3</td>\n",
              "      <td>891</td>\n",
              "    </tr>\n",
              "  </tbody>\n",
              "</table>\n",
              "</div>"
            ],
            "text/plain": [
              "bin_fare     0.0           1.0        2.0 3.0 4.0 5.0 10.0  All\n",
              "Pclass         1    2    3   1  2   3   1   1   1   1    1     \n",
              "Sex Survived                                                   \n",
              "0   0         41   86  294  24  5   6   5   1   4   2    0  468\n",
              "    1         23   17   42  15  0   5   4   1   0   0    2  109\n",
              "1   0          1    6   69   0  0   3   0   2   0   0    0   81\n",
              "    1         11   68   72  48  2   0  15   5   7   4    1  233\n",
              "All           76  177  477  87  7  14  24   9  11   6    3  891"
            ]
          },
          "metadata": {
            "tags": []
          },
          "execution_count": 94
        }
      ]
    },
    {
      "cell_type": "code",
      "metadata": {
        "id": "M-513czMYzeK",
        "colab_type": "code",
        "colab": {
          "base_uri": "https://localhost:8080/",
          "height": 382
        },
        "outputId": "77076794-40a1-4d78-e15e-201d08c4a95e"
      },
      "source": [
        "sns.factorplot(x='bin_fare',hue='Survived',kind='count',data=df,palette=['#ff4125','#006400'],size=5,aspect=1)"
      ],
      "execution_count": 95,
      "outputs": [
        {
          "output_type": "execute_result",
          "data": {
            "text/plain": [
              "<seaborn.axisgrid.FacetGrid at 0x7f574bf41e48>"
            ]
          },
          "metadata": {
            "tags": []
          },
          "execution_count": 95
        },
        {
          "output_type": "display_data",
          "data": {
            "image/png": "[encoded data removed]",
            "text/plain": [
              "<Figure size 421.55x360 with 1 Axes>"
            ]
          },
          "metadata": {
            "tags": []
          }
        }
      ]
    },
    {
      "cell_type": "code",
      "metadata": {
        "id": "rb0Q_Gx5Y60U",
        "colab_type": "code",
        "colab": {
          "base_uri": "https://localhost:8080/",
          "height": 624
        },
        "outputId": "8287e1e0-a4d7-4690-840b-054f1383370b"
      },
      "source": [
        "df.info()\n",
        "# embarked and bin_age still have null values.\n",
        "df.describe(include=[np.number])"
      ],
      "execution_count": 96,
      "outputs": [
        {
          "output_type": "stream",
          "text": [
            "<class 'pandas.core.frame.DataFrame'>\n",
            "RangeIndex: 891 entries, 0 to 890\n",
            "Data columns (total 12 columns):\n",
            " #   Column       Non-Null Count  Dtype  \n",
            "---  ------       --------------  -----  \n",
            " 0   PassengerId  891 non-null    int64  \n",
            " 1   Survived     891 non-null    int64  \n",
            " 2   Pclass       891 non-null    int64  \n",
            " 3   Name         891 non-null    object \n",
            " 4   Sex          891 non-null    object \n",
            " 5   SibSp        891 non-null    int64  \n",
            " 6   Parch        891 non-null    int64  \n",
            " 7   Ticket       891 non-null    object \n",
            " 8   Cabin        204 non-null    object \n",
            " 9   Embarked     889 non-null    object \n",
            " 10  bin_age      714 non-null    float64\n",
            " 11  bin_fare     891 non-null    float64\n",
            "dtypes: float64(2), int64(5), object(5)\n",
            "memory usage: 83.7+ KB\n"
          ],
          "name": "stdout"
        },
        {
          "output_type": "execute_result",
          "data": {
            "text/html": [
              "<div>\n",
              "<style scoped>\n",
              "    .dataframe tbody tr th:only-of-type {\n",
              "        vertical-align: middle;\n",
              "    }\n",
              "\n",
              "    .dataframe tbody tr th {\n",
              "        vertical-align: top;\n",
              "    }\n",
              "\n",
              "    .dataframe thead th {\n",
              "        text-align: right;\n",
              "    }\n",
              "</style>\n",
              "<table border=\"1\" class=\"dataframe\">\n",
              "  <thead>\n",
              "    <tr style=\"text-align: right;\">\n",
              "      <th></th>\n",
              "      <th>PassengerId</th>\n",
              "      <th>Survived</th>\n",
              "      <th>Pclass</th>\n",
              "      <th>SibSp</th>\n",
              "      <th>Parch</th>\n",
              "      <th>bin_age</th>\n",
              "      <th>bin_fare</th>\n",
              "    </tr>\n",
              "  </thead>\n",
              "  <tbody>\n",
              "    <tr>\n",
              "      <th>count</th>\n",
              "      <td>891.000000</td>\n",
              "      <td>891.000000</td>\n",
              "      <td>891.000000</td>\n",
              "      <td>891.000000</td>\n",
              "      <td>891.000000</td>\n",
              "      <td>714.000000</td>\n",
              "      <td>891.000000</td>\n",
              "    </tr>\n",
              "    <tr>\n",
              "      <th>mean</th>\n",
              "      <td>446.000000</td>\n",
              "      <td>0.383838</td>\n",
              "      <td>2.308642</td>\n",
              "      <td>0.523008</td>\n",
              "      <td>0.381594</td>\n",
              "      <td>2.525210</td>\n",
              "      <td>0.322110</td>\n",
              "    </tr>\n",
              "    <tr>\n",
              "      <th>std</th>\n",
              "      <td>257.353842</td>\n",
              "      <td>0.486592</td>\n",
              "      <td>0.836071</td>\n",
              "      <td>1.102743</td>\n",
              "      <td>0.806057</td>\n",
              "      <td>1.497097</td>\n",
              "      <td>0.959022</td>\n",
              "    </tr>\n",
              "    <tr>\n",
              "      <th>min</th>\n",
              "      <td>1.000000</td>\n",
              "      <td>0.000000</td>\n",
              "      <td>1.000000</td>\n",
              "      <td>0.000000</td>\n",
              "      <td>0.000000</td>\n",
              "      <td>0.000000</td>\n",
              "      <td>0.000000</td>\n",
              "    </tr>\n",
              "    <tr>\n",
              "      <th>25%</th>\n",
              "      <td>223.500000</td>\n",
              "      <td>0.000000</td>\n",
              "      <td>2.000000</td>\n",
              "      <td>0.000000</td>\n",
              "      <td>0.000000</td>\n",
              "      <td>2.000000</td>\n",
              "      <td>0.000000</td>\n",
              "    </tr>\n",
              "    <tr>\n",
              "      <th>50%</th>\n",
              "      <td>446.000000</td>\n",
              "      <td>0.000000</td>\n",
              "      <td>3.000000</td>\n",
              "      <td>0.000000</td>\n",
              "      <td>0.000000</td>\n",
              "      <td>2.000000</td>\n",
              "      <td>0.000000</td>\n",
              "    </tr>\n",
              "    <tr>\n",
              "      <th>75%</th>\n",
              "      <td>668.500000</td>\n",
              "      <td>1.000000</td>\n",
              "      <td>3.000000</td>\n",
              "      <td>1.000000</td>\n",
              "      <td>0.000000</td>\n",
              "      <td>3.000000</td>\n",
              "      <td>0.000000</td>\n",
              "    </tr>\n",
              "    <tr>\n",
              "      <th>max</th>\n",
              "      <td>891.000000</td>\n",
              "      <td>1.000000</td>\n",
              "      <td>3.000000</td>\n",
              "      <td>8.000000</td>\n",
              "      <td>6.000000</td>\n",
              "      <td>8.000000</td>\n",
              "      <td>10.000000</td>\n",
              "    </tr>\n",
              "  </tbody>\n",
              "</table>\n",
              "</div>"
            ],
            "text/plain": [
              "       PassengerId    Survived      Pclass  ...       Parch     bin_age    bin_fare\n",
              "count   891.000000  891.000000  891.000000  ...  891.000000  714.000000  891.000000\n",
              "mean    446.000000    0.383838    2.308642  ...    0.381594    2.525210    0.322110\n",
              "std     257.353842    0.486592    0.836071  ...    0.806057    1.497097    0.959022\n",
              "min       1.000000    0.000000    1.000000  ...    0.000000    0.000000    0.000000\n",
              "25%     223.500000    0.000000    2.000000  ...    0.000000    2.000000    0.000000\n",
              "50%     446.000000    0.000000    3.000000  ...    0.000000    2.000000    0.000000\n",
              "75%     668.500000    1.000000    3.000000  ...    0.000000    3.000000    0.000000\n",
              "max     891.000000    1.000000    3.000000  ...    6.000000    8.000000   10.000000\n",
              "\n",
              "[8 rows x 7 columns]"
            ]
          },
          "metadata": {
            "tags": []
          },
          "execution_count": 96
        }
      ]
    },
    {
      "cell_type": "markdown",
      "metadata": {
        "id": "8Z4-0ypxZM5S",
        "colab_type": "text"
      },
      "source": [
        "\n",
        "now both of these columns have some missing values and so we need to fill the missing values. for now we impute with the median."
      ]
    },
    {
      "cell_type": "code",
      "metadata": {
        "id": "6s_xrnegZIvx",
        "colab_type": "code",
        "colab": {
          "base_uri": "https://localhost:8080/",
          "height": 351
        },
        "outputId": "eda4bd7f-0679-4d8a-841a-07a030eb4470"
      },
      "source": [
        "for frame in [test,train,df,test_df]:\n",
        "    frame.bin_age.fillna(frame.bin_age.median(),inplace=True)\n",
        "    frame.Embarked.fillna(frame.Embarked.median(),inplace=True)\n",
        "    frame.bin_fare.fillna(frame.bin_fare.median(),inplace=True)\n",
        "# just to check \n",
        "df.info()\n",
        "    "
      ],
      "execution_count": 97,
      "outputs": [
        {
          "output_type": "stream",
          "text": [
            "<class 'pandas.core.frame.DataFrame'>\n",
            "RangeIndex: 891 entries, 0 to 890\n",
            "Data columns (total 12 columns):\n",
            " #   Column       Non-Null Count  Dtype  \n",
            "---  ------       --------------  -----  \n",
            " 0   PassengerId  891 non-null    int64  \n",
            " 1   Survived     891 non-null    int64  \n",
            " 2   Pclass       891 non-null    int64  \n",
            " 3   Name         891 non-null    object \n",
            " 4   Sex          891 non-null    object \n",
            " 5   SibSp        891 non-null    int64  \n",
            " 6   Parch        891 non-null    int64  \n",
            " 7   Ticket       891 non-null    object \n",
            " 8   Cabin        204 non-null    object \n",
            " 9   Embarked     891 non-null    float64\n",
            " 10  bin_age      891 non-null    float64\n",
            " 11  bin_fare     891 non-null    float64\n",
            "dtypes: float64(3), int64(5), object(4)\n",
            "memory usage: 83.7+ KB\n"
          ],
          "name": "stdout"
        }
      ]
    },
    {
      "cell_type": "markdown",
      "metadata": {
        "id": "0PoQsXRRZfjy",
        "colab_type": "text"
      },
      "source": [
        "data exploration, cleaning and preprocessing ends. Now can move onto modelling algorithms."
      ]
    },
    {
      "cell_type": "code",
      "metadata": {
        "id": "zuEXlTO8kvJm",
        "colab_type": "code",
        "colab": {}
      },
      "source": [
        "for frame in [train,df,test]:\n",
        "    frame.drop(['PassengerId','Name','SibSp','Parch','Ticket','Cabin'],axis=1,inplace=True)\n",
        "for frame in [test_df]:\n",
        "    frame.drop(['-Name','SibSp','Parch','Ticket','Cabin'],axis=1,inplace=True)\n",
        "#df.head()"
      ],
      "execution_count": null,
      "outputs": []
    },
    {
      "cell_type": "code",
      "metadata": {
        "id": "1SUYhsUfbAfW",
        "colab_type": "code",
        "colab": {}
      },
      "source": [
        "x_train,x_test,y_train,y_test=train_test_split(df.drop('Survived',axis=1),df.Survived,test_size=0.30,random_state=42)"
      ],
      "execution_count": 107,
      "outputs": []
    },
    {
      "cell_type": "code",
      "metadata": {
        "id": "9B71nSvVdEBG",
        "colab_type": "code",
        "colab": {}
      },
      "source": [
        "array = df.values\n",
        "X = array[:,6:11]\n",
        "Y = array[:,12]\n",
        "x_train, x_test, y_train, y_test = model_selection.train_test_split(X, Y, test_size=0.30, random_state=7)"
      ],
      "execution_count": null,
      "outputs": []
    },
    {
      "cell_type": "code",
      "metadata": {
        "id": "KNA7dIc_dV5n",
        "colab_type": "code",
        "colab": {
          "base_uri": "https://localhost:8080/",
          "height": 87
        },
        "outputId": "8c25e5dc-8404-4df5-80f5-15a7f026e748"
      },
      "source": [
        "models=[LogisticRegression(),RandomForestClassifier(),\n",
        "        DecisionTreeClassifier()]\n",
        "model_names=['LogisticRegression','RandomForestClassifier','DecisionTree']\n",
        "\n",
        "acc=[]\n",
        "d={}\n",
        "\n",
        "for model in range(len(models)):\n",
        "    clf=models[model]\n",
        "    clf.fit(x_train,y_train)\n",
        "    pred=clf.predict(x_test)\n",
        "    acc.append(accuracy_score(pred,y_test))\n",
        "     \n",
        "d={'Modelling Algo':model_names,'Accuracy':acc}\n",
        "d"
      ],
      "execution_count": 108,
      "outputs": [
        {
          "output_type": "execute_result",
          "data": {
            "text/plain": [
              "{'Accuracy': [0.8022388059701493, 0.7873134328358209, 0.7910447761194029],\n",
              " 'Modelling Algo': ['LogisticRegression',\n",
              "  'RandomForestClassifier',\n",
              "  'DecisionTree']}"
            ]
          },
          "metadata": {
            "tags": []
          },
          "execution_count": 108
        }
      ]
    },
    {
      "cell_type": "code",
      "metadata": {
        "id": "S8_1GMlzbOEA",
        "colab_type": "code",
        "colab": {
          "base_uri": "https://localhost:8080/",
          "height": 139
        },
        "outputId": "05d707f6-31ae-4a2c-bca1-faa896b27930"
      },
      "source": [
        "acc_frame=pd.DataFrame(d)\n",
        "acc_frame"
      ],
      "execution_count": 109,
      "outputs": [
        {
          "output_type": "execute_result",
          "data": {
            "text/html": [
              "<div>\n",
              "<style scoped>\n",
              "    .dataframe tbody tr th:only-of-type {\n",
              "        vertical-align: middle;\n",
              "    }\n",
              "\n",
              "    .dataframe tbody tr th {\n",
              "        vertical-align: top;\n",
              "    }\n",
              "\n",
              "    .dataframe thead th {\n",
              "        text-align: right;\n",
              "    }\n",
              "</style>\n",
              "<table border=\"1\" class=\"dataframe\">\n",
              "  <thead>\n",
              "    <tr style=\"text-align: right;\">\n",
              "      <th></th>\n",
              "      <th>Modelling Algo</th>\n",
              "      <th>Accuracy</th>\n",
              "    </tr>\n",
              "  </thead>\n",
              "  <tbody>\n",
              "    <tr>\n",
              "      <th>0</th>\n",
              "      <td>LogisticRegression</td>\n",
              "      <td>0.802239</td>\n",
              "    </tr>\n",
              "    <tr>\n",
              "      <th>1</th>\n",
              "      <td>RandomForestClassifier</td>\n",
              "      <td>0.787313</td>\n",
              "    </tr>\n",
              "    <tr>\n",
              "      <th>2</th>\n",
              "      <td>DecisionTree</td>\n",
              "      <td>0.791045</td>\n",
              "    </tr>\n",
              "  </tbody>\n",
              "</table>\n",
              "</div>"
            ],
            "text/plain": [
              "           Modelling Algo  Accuracy\n",
              "0      LogisticRegression  0.802239\n",
              "1  RandomForestClassifier  0.787313\n",
              "2            DecisionTree  0.791045"
            ]
          },
          "metadata": {
            "tags": []
          },
          "execution_count": 109
        }
      ]
    },
    {
      "cell_type": "code",
      "metadata": {
        "id": "U7w8gsXxdpqK",
        "colab_type": "code",
        "colab": {
          "base_uri": "https://localhost:8080/",
          "height": 319
        },
        "outputId": "d966b1b7-458c-4196-a844-91a0f29f7069"
      },
      "source": [
        "sns.barplot(y='Modelling Algo',x='Accuracy',data=acc_frame)"
      ],
      "execution_count": 110,
      "outputs": [
        {
          "output_type": "execute_result",
          "data": {
            "text/plain": [
              "<matplotlib.axes._subplots.AxesSubplot at 0x7f574bdf9438>"
            ]
          },
          "metadata": {
            "tags": []
          },
          "execution_count": 110
        },
        {
          "output_type": "display_data",
          "data": {
            "image/png": "[encoded data removed]",
            "text/plain": [
              "<Figure size 432x288 with 1 Axes>"
            ]
          },
          "metadata": {
            "tags": []
          }
        }
      ]
    },
    {
      "cell_type": "code",
      "metadata": {
        "id": "Qu8ke8wfcKbP",
        "colab_type": "code",
        "colab": {}
      },
      "source": [
        "x_train,x_test,y_train,y_test=train_test_split(df.drop('Survived',axis=1),df.Survived,test_size=0.10,random_state=42)"
      ],
      "execution_count": null,
      "outputs": []
    },
    {
      "cell_type": "code",
      "metadata": {
        "id": "0Zc3-9_ncXEa",
        "colab_type": "code",
        "colab": {}
      },
      "source": [
        "array = df.values\n",
        "X = array[:,6:11]\n",
        "Y = array[:,12]\n",
        "x_train, x_test, y_train, y_test = model_selection.train_test_split(X, Y, test_size=0.10, random_state=7)"
      ],
      "execution_count": null,
      "outputs": []
    },
    {
      "cell_type": "code",
      "metadata": {
        "id": "_mkERLbRduQ3",
        "colab_type": "code",
        "colab": {
          "base_uri": "https://localhost:8080/",
          "height": 87
        },
        "outputId": "2b87b8d8-b8a2-44a2-8701-1009f5df2c18"
      },
      "source": [
        "models=[LogisticRegression(),RandomForestClassifier(),\n",
        "        DecisionTreeClassifier()]\n",
        "model_names=['LogisticRegression','RandomForestClassifier','DecisionTree']\n",
        "\n",
        "acc=[]\n",
        "d={}\n",
        "\n",
        "for model in range(len(models)):\n",
        "    clf=models[model]\n",
        "    clf.fit(x_train,y_train)\n",
        "    pred=clf.predict(x_test)\n",
        "    acc.append(accuracy_score(pred,y_test))\n",
        "     \n",
        "d={'Modelling Algo':model_names,'Accuracy':acc}\n",
        "d"
      ],
      "execution_count": 111,
      "outputs": [
        {
          "output_type": "execute_result",
          "data": {
            "text/plain": [
              "{'Accuracy': [0.8022388059701493, 0.7947761194029851, 0.7910447761194029],\n",
              " 'Modelling Algo': ['LogisticRegression',\n",
              "  'RandomForestClassifier',\n",
              "  'DecisionTree']}"
            ]
          },
          "metadata": {
            "tags": []
          },
          "execution_count": 111
        }
      ]
    },
    {
      "cell_type": "code",
      "metadata": {
        "id": "Ari8ASY3d02m",
        "colab_type": "code",
        "colab": {}
      },
      "source": [
        "x_train,x_test,y_train,y_test=train_test_split(df.drop('Survived',axis=1),df.Survived,test_size=0.40,random_state=42)"
      ],
      "execution_count": null,
      "outputs": []
    },
    {
      "cell_type": "code",
      "metadata": {
        "id": "WEfeX-eOd3uB",
        "colab_type": "code",
        "colab": {}
      },
      "source": [
        "array = df.values\n",
        "X = array[:,6:11]\n",
        "Y = array[:,12]\n",
        "x_train, x_test, y_train, y_test = model_selection.train_test_split(X, Y, test_size=0.40, random_state=7)"
      ],
      "execution_count": null,
      "outputs": []
    },
    {
      "cell_type": "code",
      "metadata": {
        "id": "3pqIahD7d60F",
        "colab_type": "code",
        "colab": {
          "base_uri": "https://localhost:8080/",
          "height": 87
        },
        "outputId": "db8f5942-99b0-4ee8-cdae-3632d2abbf06"
      },
      "source": [
        "models=[LogisticRegression(),RandomForestClassifier(),\n",
        "        DecisionTreeClassifier()]\n",
        "model_names=['LogisticRegression','RandomForestClassifier','DecisionTree']\n",
        "\n",
        "acc=[]\n",
        "d={}\n",
        "\n",
        "for model in range(len(models)):\n",
        "    clf=models[model]\n",
        "    clf.fit(x_train,y_train)\n",
        "    pred=clf.predict(x_test)\n",
        "    acc.append(accuracy_score(pred,y_test))\n",
        "     \n",
        "d={'Modelling Algo':model_names,'Accuracy':acc}\n",
        "d"
      ],
      "execution_count": 112,
      "outputs": [
        {
          "output_type": "execute_result",
          "data": {
            "text/plain": [
              "{'Accuracy': [0.8022388059701493, 0.7910447761194029, 0.7910447761194029],\n",
              " 'Modelling Algo': ['LogisticRegression',\n",
              "  'RandomForestClassifier',\n",
              "  'DecisionTree']}"
            ]
          },
          "metadata": {
            "tags": []
          },
          "execution_count": 112
        }
      ]
    },
    {
      "cell_type": "code",
      "metadata": {
        "id": "gRrCXoRteAl-",
        "colab_type": "code",
        "colab": {
          "base_uri": "https://localhost:8080/",
          "height": 139
        },
        "outputId": "bcc17f4b-c918-4762-c2ce-bebc3af13028"
      },
      "source": [
        "acc_frame=pd.DataFrame(d)\n",
        "acc_frame"
      ],
      "execution_count": 113,
      "outputs": [
        {
          "output_type": "execute_result",
          "data": {
            "text/html": [
              "<div>\n",
              "<style scoped>\n",
              "    .dataframe tbody tr th:only-of-type {\n",
              "        vertical-align: middle;\n",
              "    }\n",
              "\n",
              "    .dataframe tbody tr th {\n",
              "        vertical-align: top;\n",
              "    }\n",
              "\n",
              "    .dataframe thead th {\n",
              "        text-align: right;\n",
              "    }\n",
              "</style>\n",
              "<table border=\"1\" class=\"dataframe\">\n",
              "  <thead>\n",
              "    <tr style=\"text-align: right;\">\n",
              "      <th></th>\n",
              "      <th>Modelling Algo</th>\n",
              "      <th>Accuracy</th>\n",
              "    </tr>\n",
              "  </thead>\n",
              "  <tbody>\n",
              "    <tr>\n",
              "      <th>0</th>\n",
              "      <td>LogisticRegression</td>\n",
              "      <td>0.802239</td>\n",
              "    </tr>\n",
              "    <tr>\n",
              "      <th>1</th>\n",
              "      <td>RandomForestClassifier</td>\n",
              "      <td>0.791045</td>\n",
              "    </tr>\n",
              "    <tr>\n",
              "      <th>2</th>\n",
              "      <td>DecisionTree</td>\n",
              "      <td>0.791045</td>\n",
              "    </tr>\n",
              "  </tbody>\n",
              "</table>\n",
              "</div>"
            ],
            "text/plain": [
              "           Modelling Algo  Accuracy\n",
              "0      LogisticRegression  0.802239\n",
              "1  RandomForestClassifier  0.791045\n",
              "2            DecisionTree  0.791045"
            ]
          },
          "metadata": {
            "tags": []
          },
          "execution_count": 113
        }
      ]
    },
    {
      "cell_type": "markdown",
      "metadata": {
        "id": "rosGw1kreFdt",
        "colab_type": "text"
      },
      "source": [
        "Model 1"
      ]
    },
    {
      "cell_type": "code",
      "metadata": {
        "id": "6fD2DG6zeN1q",
        "colab_type": "code",
        "colab": {
          "base_uri": "https://localhost:8080/",
          "height": 34
        },
        "outputId": "3d98eed0-4d46-402d-ef12-50fdbc4511c8"
      },
      "source": [
        "no_of_test=[]\n",
        "for i in range(0,101,10):\n",
        "     if(i!=0):\n",
        "        no_of_test.append(i)\n",
        "no_of_test\n",
        "params_dict={'n_estimators':no_of_test}\n",
        "clf_rf=GridSearchCV(estimator=RandomForestClassifier(),param_grid=params_dict,scoring='accuracy')\n",
        "clf_rf.fit(x_train,y_train)\n",
        "pred=clf_rf.predict(x_test)\n",
        "print(accuracy_score(pred,y_test))"
      ],
      "execution_count": 114,
      "outputs": [
        {
          "output_type": "stream",
          "text": [
            "0.7910447761194029\n"
          ],
          "name": "stdout"
        }
      ]
    },
    {
      "cell_type": "code",
      "metadata": {
        "id": "l1VTy3tPeHaB",
        "colab_type": "code",
        "colab": {
          "base_uri": "https://localhost:8080/",
          "height": 34
        },
        "outputId": "d922fb6c-3463-431a-f55b-38b0d2f6aff7"
      },
      "source": [
        "params_dict={'C':[0.001, 0.01, 0.1, 1, 10, 100, 1000],'penalty':['l1','l2']}\n",
        "clf_lr=GridSearchCV(estimator=LogisticRegression(),param_grid=params_dict,scoring='accuracy')\n",
        "clf_lr.fit(x_train,y_train)\n",
        "pred=clf_lr.predict(x_test)\n",
        "print(accuracy_score(pred,y_test))"
      ],
      "execution_count": 115,
      "outputs": [
        {
          "output_type": "stream",
          "text": [
            "0.8022388059701493\n"
          ],
          "name": "stdout"
        }
      ]
    },
    {
      "cell_type": "markdown",
      "metadata": {
        "id": "eXeEjaNueQj9",
        "colab_type": "text"
      },
      "source": [
        "Model 2"
      ]
    },
    {
      "cell_type": "code",
      "metadata": {
        "id": "Bwyt06rQeRIJ",
        "colab_type": "code",
        "colab": {
          "base_uri": "https://localhost:8080/",
          "height": 34
        },
        "outputId": "b8a92049-a53f-4ed1-f008-2d5b3456eeab"
      },
      "source": [
        "no_of_test=[]\n",
        "for i in range(0,101,30):\n",
        "     if(i!=0):\n",
        "        no_of_test.append(i)\n",
        "no_of_test\n",
        "params_dict={'n_estimators':no_of_test}\n",
        "clf_rf=GridSearchCV(estimator=RandomForestClassifier(),param_grid=params_dict,scoring='accuracy')\n",
        "clf_rf.fit(x_train,y_train)\n",
        "pred=clf_rf.predict(x_test)\n",
        "print(accuracy_score(pred,y_test))"
      ],
      "execution_count": 116,
      "outputs": [
        {
          "output_type": "stream",
          "text": [
            "0.7910447761194029\n"
          ],
          "name": "stdout"
        }
      ]
    },
    {
      "cell_type": "code",
      "metadata": {
        "id": "pv8dfXvIeUce",
        "colab_type": "code",
        "colab": {
          "base_uri": "https://localhost:8080/",
          "height": 34
        },
        "outputId": "4e7f331f-bd55-4e75-dc8c-868847a180ab"
      },
      "source": [
        "params_dict={'C':[0.01, 0.1, 0.1, 1, 30, 100, 100],'penalty':['l1','l2']}\n",
        "clf_lr=GridSearchCV(estimator=LogisticRegression(),param_grid=params_dict,scoring='accuracy')\n",
        "clf_lr.fit(x_train,y_train)\n",
        "pred=clf_lr.predict(x_test)\n",
        "print(accuracy_score(pred,y_test))"
      ],
      "execution_count": 117,
      "outputs": [
        {
          "output_type": "stream",
          "text": [
            "0.8022388059701493\n"
          ],
          "name": "stdout"
        }
      ]
    },
    {
      "cell_type": "markdown",
      "metadata": {
        "id": "yb3GcnL8eXQv",
        "colab_type": "text"
      },
      "source": [
        "Model 3"
      ]
    },
    {
      "cell_type": "code",
      "metadata": {
        "id": "C5d7ZSGKeXrp",
        "colab_type": "code",
        "colab": {
          "base_uri": "https://localhost:8080/",
          "height": 34
        },
        "outputId": "61569047-977e-4a4b-f623-279fefb3d300"
      },
      "source": [
        "no_of_test=[]\n",
        "for i in range(0,101,40):\n",
        "     if(i!=0):\n",
        "        no_of_test.append(i)\n",
        "no_of_test\n",
        "params_dict={'n_estimators':no_of_test}\n",
        "clf_rf=GridSearchCV(estimator=RandomForestClassifier(),param_grid=params_dict,scoring='accuracy')\n",
        "clf_rf.fit(x_train,y_train)\n",
        "pred=clf_rf.predict(x_test)\n",
        "print(accuracy_score(pred,y_test))"
      ],
      "execution_count": 118,
      "outputs": [
        {
          "output_type": "stream",
          "text": [
            "0.7947761194029851\n"
          ],
          "name": "stdout"
        }
      ]
    },
    {
      "cell_type": "code",
      "metadata": {
        "id": "_ulZ1gUheb9n",
        "colab_type": "code",
        "colab": {
          "base_uri": "https://localhost:8080/",
          "height": 34
        },
        "outputId": "b63992a5-b4bd-4d15-be9e-d61c37fb54c0"
      },
      "source": [
        "params_dict={'C':[0.01, 0.1, 0.1, 1, 40, 100, 100],'penalty':['l1','l2']}\n",
        "clf_lr=GridSearchCV(estimator=LogisticRegression(),param_grid=params_dict,scoring='accuracy')\n",
        "clf_lr.fit(x_train,y_train)\n",
        "pred=clf_lr.predict(x_test)\n",
        "print(accuracy_score(pred,y_test))"
      ],
      "execution_count": 119,
      "outputs": [
        {
          "output_type": "stream",
          "text": [
            "0.8022388059701493\n"
          ],
          "name": "stdout"
        }
      ]
    },
    {
      "cell_type": "code",
      "metadata": {
        "id": "beh-5761eeYf",
        "colab_type": "code",
        "colab": {}
      },
      "source": [
        "pred=clf_lr.predict(test)\n",
        "#pred\n",
        "dict={'PassengerId':test_df['PassengerId'],'Survived':pred}\n",
        "ans=pd.DataFrame(dict)\n",
        "ans.to_csv('answer.csv',index=False)"
      ],
      "execution_count": 120,
      "outputs": []
    },
    {
      "cell_type": "code",
      "metadata": {
        "id": "b_X0LDRitGzg",
        "colab_type": "code",
        "colab": {}
      },
      "source": [
        ""
      ],
      "execution_count": null,
      "outputs": []
    }
  ]
}